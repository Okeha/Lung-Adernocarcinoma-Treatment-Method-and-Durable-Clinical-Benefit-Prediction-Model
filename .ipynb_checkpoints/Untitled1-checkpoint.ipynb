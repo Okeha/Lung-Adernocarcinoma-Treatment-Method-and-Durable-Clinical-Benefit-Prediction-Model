{
 "cells": [
  {
   "cell_type": "code",
   "execution_count": 3,
   "metadata": {},
   "outputs": [],
   "source": [
    "##################### STUDENT DETAILS ###########################\n",
    "# OKEH ANTHONY KETUOJOR\n",
    "# 18/1165\n",
    "# COMPUTER SCIENCE GROUP B\n",
    "# 400L\n",
    "# INSY 404 PRACTICAL QUIZ\n"
   ]
  },
  {
   "cell_type": "code",
   "execution_count": 5,
   "metadata": {},
   "outputs": [
    {
     "name": "stdout",
     "output_type": "stream",
     "text": [
      "The total number of fruits purchased in the market is:  45\n"
     ]
    }
   ],
   "source": [
    "# QUESTION 1\n",
    "def sumFruits(mango, orange, pawpaw):\n",
    "    summation = mango + orange + pawpaw\n",
    "    return summation\n",
    "\n",
    "print(\"The total number of fruits purchased in the market is: \",sumFruits(10,15,20))"
   ]
  },
  {
   "cell_type": "code",
   "execution_count": 20,
   "metadata": {
    "scrolled": true
   },
   "outputs": [
    {
     "name": "stdout",
     "output_type": "stream",
     "text": [
      "[10, 50, ['Good', 'Bad', ['Green', 'Red'], [555, 777], 'Ugly'], 999]\n",
      "[10, 50, ['Good', 'Bad', ['Green', 'Red'], [555, 777], 'Wicked'], 999]\n"
     ]
    }
   ],
   "source": [
    "# QUESTION 2\n",
    "p = [10,50,['Good','Bad',['Green', 'Red'], [555,777], 'Ugly'], 999]\n",
    "print(p)\n",
    "########## a.) ############\n",
    "p[2][4]= \"Wicked\"\n",
    "print(p)"
   ]
  },
  {
   "cell_type": "code",
   "execution_count": null,
   "metadata": {},
   "outputs": [],
   "source": [
    "########## b.) ############\n"
   ]
  },
  {
   "cell_type": "code",
   "execution_count": 21,
   "metadata": {},
   "outputs": [
    {
     "name": "stdout",
     "output_type": "stream",
     "text": [
      "999\n"
     ]
    }
   ],
   "source": [
    "########## c.) ############\n",
    "taxi=p.pop()\n",
    "print(taxi)"
   ]
  },
  {
   "cell_type": "code",
   "execution_count": 31,
   "metadata": {},
   "outputs": [
    {
     "name": "stdout",
     "output_type": "stream",
     "text": [
      "[10, 50, ['Good', 'Bad', ['Green', 'Black', 'Red'], [555, 777], 'Ugly'], 999]\n"
     ]
    }
   ],
   "source": [
    "########## d.) ###########\n",
    "p = [10,50,['Good','Bad',['Green', 'Red'], [555,777], 'Ugly'], 999]\n",
    "p[2][2].insert(1, \"Black\")\n",
    "print(p)"
   ]
  },
  {
   "cell_type": "code",
   "execution_count": null,
   "metadata": {},
   "outputs": [],
   "source": [
    "# QUESTION 3"
   ]
  }
 ],
 "metadata": {
  "kernelspec": {
   "display_name": "Python 3",
   "language": "python",
   "name": "python3"
  },
  "language_info": {
   "codemirror_mode": {
    "name": "ipython",
    "version": 3
   },
   "file_extension": ".py",
   "mimetype": "text/x-python",
   "name": "python",
   "nbconvert_exporter": "python",
   "pygments_lexer": "ipython3",
   "version": "3.8.3"
  }
 },
 "nbformat": 4,
 "nbformat_minor": 4
}
