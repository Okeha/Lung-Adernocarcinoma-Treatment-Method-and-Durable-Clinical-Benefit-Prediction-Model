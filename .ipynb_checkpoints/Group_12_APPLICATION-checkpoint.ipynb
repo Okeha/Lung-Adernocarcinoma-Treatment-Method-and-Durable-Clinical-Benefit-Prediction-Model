{
 "cells": [
  {
   "cell_type": "code",
   "execution_count": null,
   "metadata": {},
   "outputs": [],
   "source": [
    "import pandas as pd\n",
    "import numpy as np\n",
    "import matplotlib.pyplot as plt\n",
    "import seaborn as sns\n",
    "%matplotlib inline"
   ]
  },
  {
   "cell_type": "code",
   "execution_count": null,
   "metadata": {},
   "outputs": [],
   "source": [
    "#read the dataset \n",
    "data = pd.read_csv('lung_msk_2017_clinical_data.tsv', sep='\\t')\n",
    "#show the data\n",
    "data"
   ]
  },
  {
   "cell_type": "code",
   "execution_count": null,
   "metadata": {},
   "outputs": [],
   "source": [
    "print(\"Total number of samples:\",len(data))"
   ]
  },
  {
   "cell_type": "code",
   "execution_count": null,
   "metadata": {},
   "outputs": [],
   "source": [
    "data.describe()"
   ]
  },
  {
   "cell_type": "code",
   "execution_count": null,
   "metadata": {},
   "outputs": [],
   "source": [
    "data.columns"
   ]
  },
  {
   "cell_type": "code",
   "execution_count": null,
   "metadata": {
    "scrolled": true
   },
   "outputs": [],
   "source": [
    "print(\"The total number of columns in this data set are\", len(data.columns))"
   ]
  },
  {
   "cell_type": "code",
   "execution_count": null,
   "metadata": {},
   "outputs": [],
   "source": [
    "data.isnull().any()"
   ]
  },
  {
   "cell_type": "code",
   "execution_count": null,
   "metadata": {},
   "outputs": [],
   "source": [
    "####### Visualizing the unclean data"
   ]
  },
  {
   "cell_type": "code",
   "execution_count": null,
   "metadata": {
    "scrolled": true
   },
   "outputs": [],
   "source": [
    "sns.heatmap(data.isnull(), cmap=\"rainbow\", yticklabels= False)"
   ]
  },
  {
   "cell_type": "code",
   "execution_count": null,
   "metadata": {},
   "outputs": [],
   "source": [
    "#################  CLEANING THE DATA ##################"
   ]
  },
  {
   "cell_type": "code",
   "execution_count": null,
   "metadata": {},
   "outputs": [],
   "source": [
    "data.duplicated().any()"
   ]
  },
  {
   "cell_type": "code",
   "execution_count": null,
   "metadata": {},
   "outputs": [],
   "source": [
    "#dropping insignificant columns that give a null value.\n",
    "data1=data.drop([\"Somatic Status\",\"SO comments\",\"Clinical Trial\",\"Metastatic Site\"], axis=1)\n",
    "data1.columns"
   ]
  },
  {
   "cell_type": "code",
   "execution_count": null,
   "metadata": {},
   "outputs": [],
   "source": [
    "data1.isnull().any()"
   ]
  },
  {
   "cell_type": "code",
   "execution_count": null,
   "metadata": {},
   "outputs": [],
   "source": [
    "#cleaning data by removing rows that have null values\n",
    "clean_data = data1.dropna()\n",
    "\n",
    "#verifying that there are no null values\n",
    "clean_data.isnull().any()"
   ]
  },
  {
   "cell_type": "code",
   "execution_count": null,
   "metadata": {},
   "outputs": [],
   "source": [
    "print(\"The total number of samples in the cleaned data\",len(clean_data))"
   ]
  },
  {
   "cell_type": "code",
   "execution_count": null,
   "metadata": {},
   "outputs": [],
   "source": [
    "############ DATA VISUALIZATION OF THE CLEAN DATA ############\n",
    "sns.heatmap(clean_data.isnull(), cmap=\"rainbow\", yticklabels= False)"
   ]
  },
  {
   "cell_type": "code",
   "execution_count": null,
   "metadata": {},
   "outputs": [],
   "source": [
    "clean_data.describe()"
   ]
  },
  {
   "cell_type": "code",
   "execution_count": 1,
   "metadata": {
    "scrolled": true
   },
   "outputs": [
    {
     "ename": "NameError",
     "evalue": "name 'clean_data' is not defined",
     "output_type": "error",
     "traceback": [
      "\u001b[1;31m---------------------------------------------------------------------------\u001b[0m",
      "\u001b[1;31mNameError\u001b[0m                                 Traceback (most recent call last)",
      "\u001b[1;32m<ipython-input-1-d1ff7aba6862>\u001b[0m in \u001b[0;36m<module>\u001b[1;34m\u001b[0m\n\u001b[1;32m----> 1\u001b[1;33m \u001b[0mclean_data\u001b[0m\u001b[1;33m\u001b[0m\u001b[1;33m\u001b[0m\u001b[0m\n\u001b[0m",
      "\u001b[1;31mNameError\u001b[0m: name 'clean_data' is not defined"
     ]
    }
   ],
   "source": [
    "clean_data"
   ]
  },
  {
   "cell_type": "code",
   "execution_count": null,
   "metadata": {},
   "outputs": [],
   "source": [
    "clean_data.to_csv(\"Group12_Clean Dataset\", index = False)"
   ]
  },
  {
   "cell_type": "code",
   "execution_count": null,
   "metadata": {},
   "outputs": [],
   "source": [
    "################# DATA VISUALIZATION #######################\n",
    "clean_data.columns"
   ]
  },
  {
   "cell_type": "code",
   "execution_count": null,
   "metadata": {},
   "outputs": [],
   "source": [
    "sns.set_style(\"whitegrid\")\n",
    "sns.countplot(x=\"Immunotherapy\", data = clean_data)"
   ]
  },
  {
   "cell_type": "code",
   "execution_count": null,
   "metadata": {},
   "outputs": [],
   "source": [
    "sns.countplot(x=\"Chemotherapy\", data= clean_data)"
   ]
  },
  {
   "cell_type": "code",
   "execution_count": null,
   "metadata": {},
   "outputs": [],
   "source": [
    "immuno = len(clean_data[clean_data[\"Immunotherapy\"]==\"YES\"])\n",
    "print(\"The total number of patients that went with Immunotherapy\", immuno)\n",
    "chemo = len(clean_data[clean_data[\"Chemotherapy\"]==\"YES\"])\n",
    "print(\"The total number of patients that went with Chemotherapy\", chemo)"
   ]
  },
  {
   "cell_type": "code",
   "execution_count": null,
   "metadata": {},
   "outputs": [],
   "source": [
    "sns.countplot(x=\"Chemotherapy\", hue=\"Immunotherapy\", data=clean_data, palette=\"inferno\")"
   ]
  },
  {
   "cell_type": "code",
   "execution_count": null,
   "metadata": {},
   "outputs": [],
   "source": [
    "sns.swarmplot(x=\"Chemotherapy\",y=\"Mutation Count\", data=clean_data,palette=\"magma\")"
   ]
  },
  {
   "cell_type": "code",
   "execution_count": null,
   "metadata": {},
   "outputs": [],
   "source": [
    "sns.swarmplot(x=\"Immunotherapy\",y=\"Mutation Count\", data=clean_data,palette=\"magma\")"
   ]
  },
  {
   "cell_type": "code",
   "execution_count": null,
   "metadata": {},
   "outputs": [],
   "source": [
    "clean_data.columns"
   ]
  },
  {
   "cell_type": "code",
   "execution_count": null,
   "metadata": {},
   "outputs": [],
   "source": [
    "clean_data.head()"
   ]
  },
  {
   "cell_type": "code",
   "execution_count": null,
   "metadata": {},
   "outputs": [],
   "source": [
    "sns.countplot(x=\"Smoking History\", data=clean_data, palette=\"hls\")"
   ]
  },
  {
   "cell_type": "code",
   "execution_count": null,
   "metadata": {},
   "outputs": [],
   "source": [
    "sns.scatterplot(x=\"Smoking History\", y=\"Tumor Purity\", data=clean_data, palette=\"cubehelix\")"
   ]
  },
  {
   "cell_type": "code",
   "execution_count": null,
   "metadata": {},
   "outputs": [],
   "source": [
    "sns.scatterplot(x=\"Smoking History\", y=\"Mutation Count\", data=clean_data, palette=\"cubehelix\")"
   ]
  },
  {
   "cell_type": "code",
   "execution_count": null,
   "metadata": {},
   "outputs": [],
   "source": [
    "sns.boxplot(x=\"Smoking History\", y=\"Mutation Count\", data=clean_data, palette=\"cubehelix\")"
   ]
  },
  {
   "cell_type": "code",
   "execution_count": null,
   "metadata": {},
   "outputs": [],
   "source": [
    "sns.boxplot(x=\"Smoking History\", y=\"Tumor Purity\", data=clean_data, palette=\"cubehelix\")"
   ]
  },
  {
   "cell_type": "code",
   "execution_count": null,
   "metadata": {},
   "outputs": [],
   "source": [
    "clean_data.head()"
   ]
  },
  {
   "cell_type": "code",
   "execution_count": null,
   "metadata": {},
   "outputs": [],
   "source": [
    "sns.countplot(x=\"Sample Type\", data=clean_data)"
   ]
  },
  {
   "cell_type": "code",
   "execution_count": null,
   "metadata": {},
   "outputs": [],
   "source": [
    "sns.countplot(x=\"Cancer Type Detailed\", data=clean_data)"
   ]
  },
  {
   "cell_type": "code",
   "execution_count": null,
   "metadata": {},
   "outputs": [],
   "source": [
    "clean_data.columns"
   ]
  },
  {
   "cell_type": "code",
   "execution_count": null,
   "metadata": {},
   "outputs": [],
   "source": [
    "len(clean_data.columns)"
   ]
  },
  {
   "cell_type": "code",
   "execution_count": null,
   "metadata": {},
   "outputs": [],
   "source": [
    "sns.countplot(x=\"Patient's Vital Status\", data=clean_data, palette=\"hls\")"
   ]
  },
  {
   "cell_type": "code",
   "execution_count": null,
   "metadata": {
    "scrolled": true
   },
   "outputs": [],
   "source": [
    "sns.countplot(x=\"Patient's Vital Status\", hue=\"Immunotherapy\", data=clean_data, palette=\"hls\")"
   ]
  },
  {
   "cell_type": "code",
   "execution_count": null,
   "metadata": {},
   "outputs": [],
   "source": [
    "sns.scatterplot(x=\"Patient's Vital Status\",y=\"Diagnosis Age\", hue=\"Chemotherapy\" ,data= clean_data)"
   ]
  },
  {
   "cell_type": "code",
   "execution_count": null,
   "metadata": {},
   "outputs": [],
   "source": [
    "sns.scatterplot(x=\"Patient's Vital Status\",y=\"Diagnosis Age\", hue=\"Immunotherapy\" ,data= clean_data, palette=\"magma\")"
   ]
  },
  {
   "cell_type": "code",
   "execution_count": null,
   "metadata": {},
   "outputs": [],
   "source": [
    "sns.scatterplot(x=\"Patient's Vital Status\",y=\"Mutation Count\",hue=\"Immunotherapy\" ,data= clean_data, palette=\"magma\")"
   ]
  },
  {
   "cell_type": "code",
   "execution_count": null,
   "metadata": {},
   "outputs": [],
   "source": [
    "sns.scatterplot(x=\"Patient's Vital Status\",y=\"Mutation Count\",hue=\"Chemotherapy\" ,data= clean_data, palette=\"hls\")"
   ]
  },
  {
   "cell_type": "code",
   "execution_count": null,
   "metadata": {},
   "outputs": [],
   "source": [
    "sns.countplot(x=\"Patient's Vital Status\", hue=\"Immunotherapy\", data=clean_data, palette=\"OrRd\")"
   ]
  },
  {
   "cell_type": "code",
   "execution_count": null,
   "metadata": {},
   "outputs": [],
   "source": [
    "sns.countplot(x=\"Patient's Vital Status\", hue=\"Chemotherapy\", data=clean_data, palette=\"magma\")"
   ]
  },
  {
   "cell_type": "code",
   "execution_count": null,
   "metadata": {},
   "outputs": [],
   "source": [
    "sns.scatterplot(x=\"Chemotherapy\",y=\"Mutation Count\", data= clean_data, palette=\"hls\")"
   ]
  },
  {
   "cell_type": "code",
   "execution_count": null,
   "metadata": {},
   "outputs": [],
   "source": [
    "sns.scatterplot(x=\"Immunotherapy\",y=\"Mutation Count\", data= clean_data, palette=\"hls\")"
   ]
  },
  {
   "cell_type": "code",
   "execution_count": null,
   "metadata": {},
   "outputs": [],
   "source": [
    "#define data\n",
    "data =[len(clean_data[clean_data[\"Immunotherapy\"]==\"YES\"]), len(clean_data[clean_data[\"Immunotherapy\"]==\"NO\"])]\n",
    "labels=[\"YES\",\"NO\"]\n",
    "sns.set_style(\"whitegrid\")\n",
    "\n",
    "# #define Seaborn color palette to use\n",
    "colors = sns.color_palette('pastel')[0:5]\n",
    "# #create pie chart\n",
    "plt.title(\"Immunotherapy\")\n",
    "plt.pie(data, labels = labels, colors = colors, autopct='%.0f%%')\n",
    "plt.show()"
   ]
  },
  {
   "cell_type": "code",
   "execution_count": null,
   "metadata": {},
   "outputs": [],
   "source": [
    "#define data\n",
    "data =[len(clean_data[clean_data[\"Chemotherapy\"]==\"YES\"]), len(clean_data[clean_data[\"Chemotherapy\"]==\"NO\"])]\n",
    "labels=[\"YES\",\"NO\"]\n",
    "sns.set_style(\"whitegrid\")\n",
    "\n",
    "# #define Seaborn color palette to use\n",
    "colors = sns.color_palette('pastel')[0:5]\n",
    "# #create pie chart\n",
    "plt.title(\"Chemotherapy\")\n",
    "plt.pie(data, labels = labels, colors = colors, autopct='%.0f%%')\n",
    "plt.show()"
   ]
  },
  {
   "cell_type": "code",
   "execution_count": null,
   "metadata": {},
   "outputs": [],
   "source": [
    "sns.scatterplot(x=\"Patient's Vital Status\", y=\"Diagnosis Age\", data= clean_data)"
   ]
  },
  {
   "cell_type": "code",
   "execution_count": null,
   "metadata": {},
   "outputs": [],
   "source": [
    "# age vs Immunotherapy and Chemotherapy\n",
    "\n",
    "immuno=clean_data[\"Immunotherapy\"]==\"YES\"\n",
    "chemo=clean_data[\"Chemotherapy\"]==\"YES\"\n",
    "age= clean_data[\"Diagnosis Age\"]\n",
    "\n",
    "sns.boxplot(x= immuno, y= age)\n"
   ]
  },
  {
   "cell_type": "code",
   "execution_count": null,
   "metadata": {},
   "outputs": [],
   "source": [
    "sns.boxplot(x= chemo, y= age)"
   ]
  },
  {
   "cell_type": "code",
   "execution_count": null,
   "metadata": {
    "scrolled": true
   },
   "outputs": [],
   "source": [
    "sns.swarmplot(x=\"Sex\", y=\"Chemotherapy\", data=clean_data)"
   ]
  },
  {
   "cell_type": "code",
   "execution_count": null,
   "metadata": {},
   "outputs": [],
   "source": [
    "sns.swarmplot(x=\"Sex\", y=\"Immunotherapy\", data=clean_data)"
   ]
  },
  {
   "cell_type": "code",
   "execution_count": null,
   "metadata": {},
   "outputs": [],
   "source": [
    "clean_data.columns"
   ]
  },
  {
   "cell_type": "code",
   "execution_count": null,
   "metadata": {},
   "outputs": [],
   "source": [
    "clean_data[\"Chemotherapy\"]"
   ]
  },
  {
   "cell_type": "code",
   "execution_count": null,
   "metadata": {},
   "outputs": [],
   "source": [
    "# clean_data[\"Chemotherapy\"].replace([\"NO\",\"YES\"],[0,1],inplace=True)\n",
    "# clean_data[\"Chemotherapy\"]\n",
    "sns.barplot(x=\"Durable Clinical Benefit\", y=\"Chemotherapy\", data=clean_data)\n"
   ]
  },
  {
   "cell_type": "code",
   "execution_count": null,
   "metadata": {},
   "outputs": [],
   "source": [
    "# clean_data[\"Immunotherapy\"].replace([\"NO\",\"YES\"],[0,1],inplace=True)\n",
    "clean_data[\"Immunotherapy\"]"
   ]
  },
  {
   "cell_type": "code",
   "execution_count": null,
   "metadata": {},
   "outputs": [],
   "source": [
    "# encoding\n",
    "clean_data[\"Smoking History\"].replace([\"Never\",\"Former light\",\"Former heavy\",\"Current heavy\"],[0,1,2,3],inplace=True)\n"
   ]
  },
  {
   "cell_type": "code",
   "execution_count": null,
   "metadata": {},
   "outputs": [],
   "source": [
    "clean_data[\"Smoking History\"]"
   ]
  },
  {
   "cell_type": "code",
   "execution_count": null,
   "metadata": {},
   "outputs": [],
   "source": [
    "sns.boxplot(x=\"Patient's Vital Status\",y=\"Smoking History\",data=clean_data)\n",
    "# \"Never=0\",\"Former light=1\",\"Former heavy=2\",\"Current heavy=3\""
   ]
  },
  {
   "cell_type": "code",
   "execution_count": null,
   "metadata": {},
   "outputs": [],
   "source": [
    "sns.boxplot(x=\"Patient's Vital Status\", y=\"Chemotherapy\", data=clean_data)"
   ]
  },
  {
   "cell_type": "code",
   "execution_count": null,
   "metadata": {},
   "outputs": [],
   "source": [
    "sns.boxplot(x=\"Patient's Vital Status\", y=\"Tumor Purity\", data=clean_data)"
   ]
  },
  {
   "cell_type": "code",
   "execution_count": null,
   "metadata": {},
   "outputs": [],
   "source": []
  },
  {
   "cell_type": "code",
   "execution_count": null,
   "metadata": {},
   "outputs": [],
   "source": [
    "sns.boxplot(x=\"Chemotherapy\", y=\"Tumor Purity\", data= clean_data, palette=\"hls\")"
   ]
  },
  {
   "cell_type": "code",
   "execution_count": null,
   "metadata": {},
   "outputs": [],
   "source": [
    "sns.boxplot(x=\"Immunotherapy\", y=\"Tumor Purity\", data=clean_data, palette=\"hls\")"
   ]
  },
  {
   "cell_type": "code",
   "execution_count": null,
   "metadata": {},
   "outputs": [],
   "source": [
    "sns.scatterplot(x=\"Chemotherapy\", y=\"Tumor Purity\", data= clean_data)"
   ]
  },
  {
   "cell_type": "code",
   "execution_count": null,
   "metadata": {},
   "outputs": [],
   "source": [
    "sns.scatterplot(x=\"Immunotherapy\", y=\"Tumor Purity\", data= clean_data)"
   ]
  },
  {
   "cell_type": "code",
   "execution_count": null,
   "metadata": {},
   "outputs": [],
   "source": [
    "sns.boxplot(x=\"Chemotherapy\", y=\"Mutation Count\", data= clean_data)"
   ]
  },
  {
   "cell_type": "code",
   "execution_count": null,
   "metadata": {},
   "outputs": [],
   "source": [
    "sns.boxplot(x=\"Immunotherapy\", y=\"Mutation Count\", data= clean_data)"
   ]
  },
  {
   "cell_type": "code",
   "execution_count": null,
   "metadata": {},
   "outputs": [],
   "source": [
    "sns.boxplot(x=\"Immunotherapy\", y=\"Smoking History\", data= clean_data, palette=\"hls\")"
   ]
  },
  {
   "cell_type": "code",
   "execution_count": null,
   "metadata": {},
   "outputs": [],
   "source": [
    "sns.boxplot(x=\"Chemotherapy\", y=\"Smoking History\", data= clean_data, palette=\"hls\")"
   ]
  },
  {
   "cell_type": "code",
   "execution_count": null,
   "metadata": {},
   "outputs": [],
   "source": [
    "clean_data.columns\n",
    "sns.swarmplot(x=\"Chemotherapy\",y=\"Tumor Purity\",hue=\"Patient's Vital Status\",data=clean_data,palette=\"hls\")"
   ]
  },
  {
   "cell_type": "code",
   "execution_count": null,
   "metadata": {},
   "outputs": [],
   "source": [
    "sns.swarmplot(x=\"Immunotherapy\",y=\"Tumor Purity\",hue=\"Patient's Vital Status\",data=clean_data,palette=\"hls\")"
   ]
  },
  {
   "cell_type": "code",
   "execution_count": null,
   "metadata": {},
   "outputs": [],
   "source": [
    "sns.swarmplot(x=\"Immunotherapy\",y=\"Mutation Count\",hue=\"Patient's Vital Status\",data=clean_data,palette=\"hls\")"
   ]
  },
  {
   "cell_type": "code",
   "execution_count": null,
   "metadata": {},
   "outputs": [],
   "source": [
    "sns.swarmplot(x=\"Sex\",y =\"Durable Clinical Benefit\", data=clean_data)"
   ]
  },
  {
   "cell_type": "code",
   "execution_count": null,
   "metadata": {},
   "outputs": [],
   "source": [
    "sns.boxplot(x=\"Sex\",y =\"Durable Clinical Benefit\", data=clean_data)"
   ]
  },
  {
   "cell_type": "code",
   "execution_count": null,
   "metadata": {},
   "outputs": [],
   "source": [
    "sns.swarmplot(x=\"Number Treatment Lines Prior To Receiving Impact Results\",y =\"Durable Clinical Benefit\", data=clean_data)"
   ]
  },
  {
   "cell_type": "code",
   "execution_count": null,
   "metadata": {},
   "outputs": [],
   "source": [
    "sns.boxplot(x=\"Durable Clinical Benefit\",y =\"Number Treatment Lines Prior To Receiving Impact Results\", data=clean_data)"
   ]
  },
  {
   "cell_type": "code",
   "execution_count": null,
   "metadata": {},
   "outputs": [],
   "source": [
    "sns.swarmplot(x=\"Durable Clinical Benefit\",y =\"Mutation Count\", data=clean_data)"
   ]
  },
  {
   "cell_type": "code",
   "execution_count": null,
   "metadata": {},
   "outputs": [],
   "source": [
    "sns.barplot(x=\"Durable Clinical Benefit\",y =\"Mutation Count\", data=clean_data)"
   ]
  },
  {
   "cell_type": "code",
   "execution_count": null,
   "metadata": {},
   "outputs": [],
   "source": [
    "sns.scatterplot(x=\"Durable Clinical Benefit\",y =\"Tumor Purity\", data=clean_data)"
   ]
  },
  {
   "cell_type": "code",
   "execution_count": null,
   "metadata": {},
   "outputs": [],
   "source": [
    "sns.boxplot(x=\"Durable Clinical Benefit\",y =\"Tumor Purity\", data=clean_data)"
   ]
  },
  {
   "cell_type": "code",
   "execution_count": null,
   "metadata": {
    "scrolled": true
   },
   "outputs": [],
   "source": [
    "sns.boxplot(x=\"Immunotherapy\",y =\"Durable Clinical Benefit\", data=clean_data)"
   ]
  },
  {
   "cell_type": "code",
   "execution_count": null,
   "metadata": {},
   "outputs": [],
   "source": [
    "sns.boxplot(x=\"Chemotherapy\",y =\"Durable Clinical Benefit\", data=clean_data)"
   ]
  },
  {
   "cell_type": "code",
   "execution_count": null,
   "metadata": {},
   "outputs": [],
   "source": [
    "sns.boxplot(x=\"Durable Clinical Benefit\",y =\"Diagnosis Age\", data=clean_data)"
   ]
  },
  {
   "cell_type": "code",
   "execution_count": null,
   "metadata": {},
   "outputs": [],
   "source": [
    "sns.boxplot(x=\"Durable Clinical Benefit\",y =\"\", data=clean_data)"
   ]
  },
  {
   "cell_type": "code",
   "execution_count": null,
   "metadata": {},
   "outputs": [],
   "source": [
    "from sklearn.linear_model import LinearRegression\n",
    "from sklearn.neighbors import KNeighborsClassifier\n",
    "from sklearn.tree import DecisionTreeClassifier\n",
    "from sklearn.ensemble import RandomForestClassifier\n",
    "from sklearn.naive_bayes import GaussianNB\n",
    "from sklearn import tree\n",
    "from sklearn.model_selection import train_test_split\n",
    "from sklearn.metrics import mean_squared_error \n",
    "from sklearn.metrics import accuracy_score\n",
    "from sklearn import metrics \n",
    "import scipy"
   ]
  },
  {
   "cell_type": "code",
   "execution_count": null,
   "metadata": {},
   "outputs": [],
   "source": [
    "from sklearn.preprocessing import StandardScaler\n",
    "scaler= StandardScaler()"
   ]
  },
  {
   "cell_type": "code",
   "execution_count": null,
   "metadata": {},
   "outputs": [],
   "source": [
    "# clean_data[\"Sex\"].replace([\"Male\",\"Female\"],[1,0],inplace=True)\n",
    "# clean_data[\"Sex\"]"
   ]
  },
  {
   "cell_type": "code",
   "execution_count": null,
   "metadata": {},
   "outputs": [],
   "source": [
    "# sns.countplot(x=\"Target Therapy\", data=clean_data)\n",
    "# clean_data[\"Target Therapy\"].replace([\"NO\",\"YES\"],[0,1],inplace=True)\n",
    "clean_data[\"Gene Panel\"].replace([\"IMPACT341\",\"IMPACT410\"],[0,1],inplace=True)\n",
    "clean_data[\"Gene Panel\"]\n",
    "# clean_data[\"Target Therapy\"]"
   ]
  },
  {
   "cell_type": "code",
   "execution_count": null,
   "metadata": {},
   "outputs": [],
   "source": [
    "# clean_data[\"Patient's Vital Status\"].replace([\"AWD\",\"DOD\",\"DUK\",\"AWD-M\",\"NED-M\"],[0,1,2,3,4], inplace=True)\n",
    "clean_data[\"Patient's Vital Status\"]"
   ]
  },
  {
   "cell_type": "code",
   "execution_count": null,
   "metadata": {},
   "outputs": [],
   "source": [
    "# clean_data[\"Durable Clinical Benefit\"].replace([\"await\"],[2],inplace=True)\n",
    "clean_data[\"Durable Clinical Benefit\"].replace([\"N_stoppedSE\"],[4],inplace=True)"
   ]
  },
  {
   "cell_type": "code",
   "execution_count": null,
   "metadata": {},
   "outputs": [],
   "source": [
    "clean_data.columns"
   ]
  },
  {
   "cell_type": "code",
   "execution_count": null,
   "metadata": {},
   "outputs": [],
   "source": [
    "# x = clean_data.drop(columns=['Study ID', 'Patient ID', 'Sample ID','Cancer Type','Cancer Type Detailed', 'Driver Mutations', 'Durable Clinical Benefit',\n",
    "#        \"Oncotree Code\",\"Gene Panel\",\n",
    "#        'Institute Source',\"Immunotherapy\", \"Chemotherapy\",\n",
    "#        'Overall Patient Histology',\n",
    "#        'Primary Tumor Site', 'Recurrent/metastatic disease', 'Sample Class',\n",
    "#        'Number of Samples Per Patient', 'Sample coverage',\n",
    "#        'Sample pre any Lung Therapy', 'Sample Type','Stage At Diagnosis', \"Patient's Vital Status\"])\n",
    "# x.columns\n",
    "# # x = scaler.fit(x)\n",
    "# y= clean_data.drop(columns=['Study ID', 'Patient ID', 'Sample ID', 'Diagnosis Age', 'Cancer Type',\n",
    "#        'Cancer Type Detailed', 'Driver Mutations', 'Durable Clinical Benefit',\n",
    "#        'Fraction Genome Altered', 'Gene Panel','Institute Source',\n",
    "#        'Number Treatment Lines Prior To Receiving Impact Results',\n",
    "#        'Mutation Count', 'Oncotree Code', 'Overall Patient Histology',\n",
    "#        'Primary Tumor Site', 'Recurrent/metastatic disease', 'Sample Class',\n",
    "#        'Number of Samples Per Patient', 'Sample coverage',\n",
    "#        'Sample pre any Lung Therapy', 'Sample Type', 'Sex', 'Smoking History',\n",
    "#        'Stage At Diagnosis', 'Target Therapy', 'TMB (nonsynonymous)', 'Tumor Purity', \"Patient's Vital Status\"])\n",
    "# y.columns\n",
    "# x"
   ]
  },
  {
   "cell_type": "code",
   "execution_count": null,
   "metadata": {},
   "outputs": [],
   "source": [
    "x= clean_data.drop(columns=['Study ID', 'Patient ID', 'Sample ID','Cancer Type','Cancer Type Detailed', 'Driver Mutations',\n",
    "       'Institute Source',\"Immunotherapy\", \"Chemotherapy\",\n",
    "       'Overall Patient Histology',\"Oncotree Code\",\n",
    "       'Primary Tumor Site', 'Recurrent/metastatic disease', 'Sample Class',\n",
    "       'Number of Samples Per Patient', 'Sample coverage',\n",
    "       'Sample pre any Lung Therapy', 'Sample Type','Stage At Diagnosis' ])\n",
    "y= clean_data[\"Durable Clinical Benefit\"]\n",
    "x.columns\n",
    "\n",
    "# y.columns"
   ]
  },
  {
   "cell_type": "code",
   "execution_count": null,
   "metadata": {},
   "outputs": [],
   "source": [
    "X_train, X_test, y_train, y_test = train_test_split(x, y, test_size = 0.25, random_state =42)\n",
    "X_train.dtypes"
   ]
  },
  {
   "cell_type": "code",
   "execution_count": null,
   "metadata": {
    "scrolled": true
   },
   "outputs": [],
   "source": [
    "X_train.head()"
   ]
  },
  {
   "cell_type": "code",
   "execution_count": null,
   "metadata": {},
   "outputs": [],
   "source": [
    "y_train.head()"
   ]
  },
  {
   "cell_type": "code",
   "execution_count": null,
   "metadata": {},
   "outputs": [],
   "source": [
    "clf = RandomForestClassifier(n_estimators = 100) \n",
    "clf.fit(X_train, y_train)\n",
    "predictions2 = clf.predict(X_test)\n",
    "# accuracy_score(y_test, predictions2)\n",
    "print(\"ACCURACY OF THE MODEL(in %): \", metrics.accuracy_score(y_test, predictions2)*100)\n",
    "# dta=accuracy_score(y_test, predictions2)"
   ]
  },
  {
   "cell_type": "code",
   "execution_count": null,
   "metadata": {},
   "outputs": [],
   "source": [
    "knn = KNeighborsClassifier(n_neighbors=3) \n",
    "knn.fit(X_train, y_train)\n",
    "predictions2 = knn.predict(X_test)\n",
    "# accuracy_score(y_test, predictions2)\n",
    "print(\"ACCURACY OF THE MODEL(in %): \", metrics.accuracy_score(y_test, predictions2)*100)\n",
    "# dta=accuracy_score(y_test, predictions2)"
   ]
  },
  {
   "cell_type": "code",
   "execution_count": null,
   "metadata": {},
   "outputs": [],
   "source": [
    "dtc = DecisionTreeClassifier()\n",
    "dtc.fit(X_train, y_train)\n",
    "predictions2 = dtc.predict(X_test)\n",
    "# accuracy_score(y_test, predictions2)\n",
    "print(\"ACCURACY OF THE MODEL(in %): \", metrics.accuracy_score(y_test, predictions2)*100)\n",
    "# dta=accuracy_score(y_test, predictions2)"
   ]
  },
  {
   "cell_type": "code",
   "execution_count": null,
   "metadata": {
    "scrolled": true
   },
   "outputs": [],
   "source": [
    "sns.countplot(x=\"Durable Clinical Benefit\", data=clean_data)"
   ]
  },
  {
   "cell_type": "code",
   "execution_count": null,
   "metadata": {},
   "outputs": [],
   "source": [
    "######### Predictive model for Suitable Therapy ###############\n",
    "y= clean_data.drop(columns=['Study ID', 'Patient ID', 'Sample ID', 'Diagnosis Age', 'Cancer Type',\n",
    "       'Cancer Type Detailed', 'Driver Mutations', 'Durable Clinical Benefit',\n",
    "       'Fraction Genome Altered', 'Gene Panel','Institute Source',\n",
    "       'Number Treatment Lines Prior To Receiving Impact Results',\n",
    "       'Mutation Count', 'Oncotree Code', 'Overall Patient Histology',\n",
    "       'Primary Tumor Site', 'Recurrent/metastatic disease', 'Sample Class',\n",
    "       'Number of Samples Per Patient', 'Sample coverage',\n",
    "       'Sample pre any Lung Therapy', 'Sample Type', 'Sex', 'Smoking History',\n",
    "       'Stage At Diagnosis', 'Target Therapy', 'TMB (nonsynonymous)', 'Tumor Purity', \"Patient's Vital Status\"])\n",
    "y.columns"
   ]
  },
  {
   "cell_type": "code",
   "execution_count": null,
   "metadata": {},
   "outputs": [],
   "source": [
    "X_train, X_test, y_train, y_test = train_test_split(x, y, test_size = 0.25, random_state =42)\n",
    "X_train.dtypes"
   ]
  },
  {
   "cell_type": "code",
   "execution_count": null,
   "metadata": {},
   "outputs": [],
   "source": [
    "clf = RandomForestClassifier(n_estimators = 100) \n",
    "clf.fit(X_train, y_train)\n",
    "predictions2 = clf.predict(X_test)\n",
    "# accuracy_score(y_test, predictions2)\n",
    "print(\"ACCURACY OF THE MODEL(in %): \"\n",
    "      , metrics.accuracy_score(y_test, predictions2)*100)\n",
    "# dta=accuracy_score(y_test, predictions2)"
   ]
  },
  {
   "cell_type": "code",
   "execution_count": null,
   "metadata": {},
   "outputs": [],
   "source": [
    "############ Predictive Model For the Patient's Vital Status ############\n",
    "x= clean_data.drop(columns=['Study ID', 'Patient ID', 'Sample ID','Cancer Type','Cancer Type Detailed', 'Driver Mutations',\n",
    "       'Institute Source',\"Immunotherapy\", \"Chemotherapy\",\n",
    "       'Overall Patient Histology',\"Oncotree Code\",\n",
    "       'Primary Tumor Site', 'Recurrent/metastatic disease', 'Sample Class',\n",
    "       'Number of Samples Per Patient', 'Sample coverage',\n",
    "       'Sample pre any Lung Therapy', 'Sample Type','Stage At Diagnosis',\"Patient's Vital Status\" ])\n",
    "y = clean_data[\"Patient's Vital Status\"]"
   ]
  },
  {
   "cell_type": "code",
   "execution_count": null,
   "metadata": {},
   "outputs": [],
   "source": [
    "X_train, X_test, y_train, y_test = train_test_split(x, y, test_size = 0.25, random_state =42)\n",
    "X_train.dtypes"
   ]
  },
  {
   "cell_type": "code",
   "execution_count": null,
   "metadata": {},
   "outputs": [],
   "source": [
    "clf = RandomForestClassifier(n_estimators = 100) \n",
    "clf.fit(X_train, y_train)\n",
    "predictions2 = clf.predict(X_test)\n",
    "# accuracy_score(y_test, predictions2)\n",
    "print(\"ACCURACY OF THE MODEL(in %): \", metrics.accuracy_score(y_test, predictions2)*100)\n",
    "# dta=accuracy_score(y_test, predictions2)"
   ]
  }
 ],
 "metadata": {
  "kernelspec": {
   "display_name": "Python 3",
   "language": "python",
   "name": "python3"
  },
  "language_info": {
   "codemirror_mode": {
    "name": "ipython",
    "version": 3
   },
   "file_extension": ".py",
   "mimetype": "text/x-python",
   "name": "python",
   "nbconvert_exporter": "python",
   "pygments_lexer": "ipython3",
   "version": "3.8.3"
  }
 },
 "nbformat": 4,
 "nbformat_minor": 4
}
