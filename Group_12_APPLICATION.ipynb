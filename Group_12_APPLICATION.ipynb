{
 "cells": [
  {
   "cell_type": "code",
   "execution_count": 2,
   "metadata": {},
   "outputs": [],
   "source": [
    "import pandas as pd\n",
    "import numpy as np\n",
    "import matplotlib.pyplot as plt\n",
    "import seaborn as sns\n",
    "%matplotlib inline"
   ]
  },
  {
   "cell_type": "code",
   "execution_count": 3,
   "metadata": {},
   "outputs": [
    {
     "data": {
      "text/html": [
       "<div>\n",
       "<style scoped>\n",
       "    .dataframe tbody tr th:only-of-type {\n",
       "        vertical-align: middle;\n",
       "    }\n",
       "\n",
       "    .dataframe tbody tr th {\n",
       "        vertical-align: top;\n",
       "    }\n",
       "\n",
       "    .dataframe thead th {\n",
       "        text-align: right;\n",
       "    }\n",
       "</style>\n",
       "<table border=\"1\" class=\"dataframe\">\n",
       "  <thead>\n",
       "    <tr style=\"text-align: right;\">\n",
       "      <th></th>\n",
       "      <th>Study ID</th>\n",
       "      <th>Patient ID</th>\n",
       "      <th>Sample ID</th>\n",
       "      <th>Diagnosis Age</th>\n",
       "      <th>Cancer Type</th>\n",
       "      <th>Cancer Type Detailed</th>\n",
       "      <th>Clinical Trial</th>\n",
       "      <th>Driver Mutations</th>\n",
       "      <th>Durable Clinical Benefit</th>\n",
       "      <th>Fraction Genome Altered</th>\n",
       "      <th>...</th>\n",
       "      <th>Sex</th>\n",
       "      <th>Smoking History</th>\n",
       "      <th>Somatic Status</th>\n",
       "      <th>SO comments</th>\n",
       "      <th>Stage At Diagnosis</th>\n",
       "      <th>Target Therapy</th>\n",
       "      <th>TMB (nonsynonymous)</th>\n",
       "      <th>Chemotherapy</th>\n",
       "      <th>Tumor Purity</th>\n",
       "      <th>Patient's Vital Status</th>\n",
       "    </tr>\n",
       "  </thead>\n",
       "  <tbody>\n",
       "    <tr>\n",
       "      <th>0</th>\n",
       "      <td>lung_msk_2017</td>\n",
       "      <td>P-0000036</td>\n",
       "      <td>P-0000036-T01-IM3</td>\n",
       "      <td>57</td>\n",
       "      <td>Non-Small Cell Lung Cancer</td>\n",
       "      <td>Lung Adenocarcinoma</td>\n",
       "      <td>NO</td>\n",
       "      <td>ROS1</td>\n",
       "      <td>YES</td>\n",
       "      <td>0.0185</td>\n",
       "      <td>...</td>\n",
       "      <td>Female</td>\n",
       "      <td>Never</td>\n",
       "      <td>Unmatched</td>\n",
       "      <td>NaN</td>\n",
       "      <td>IV</td>\n",
       "      <td>YES</td>\n",
       "      <td>7.764087</td>\n",
       "      <td>YES</td>\n",
       "      <td>30.0</td>\n",
       "      <td>AWD</td>\n",
       "    </tr>\n",
       "    <tr>\n",
       "      <th>1</th>\n",
       "      <td>lung_msk_2017</td>\n",
       "      <td>P-0000082</td>\n",
       "      <td>P-0000082-T01-IM3</td>\n",
       "      <td>56</td>\n",
       "      <td>Non-Small Cell Lung Cancer</td>\n",
       "      <td>Lung Adenocarcinoma</td>\n",
       "      <td>YES</td>\n",
       "      <td>KRAS</td>\n",
       "      <td>NO</td>\n",
       "      <td>0.3606</td>\n",
       "      <td>...</td>\n",
       "      <td>Male</td>\n",
       "      <td>Former heavy</td>\n",
       "      <td>Matched</td>\n",
       "      <td>NaN</td>\n",
       "      <td>IA</td>\n",
       "      <td>YES</td>\n",
       "      <td>1.109155</td>\n",
       "      <td>YES</td>\n",
       "      <td>NaN</td>\n",
       "      <td>AWD</td>\n",
       "    </tr>\n",
       "    <tr>\n",
       "      <th>2</th>\n",
       "      <td>lung_msk_2017</td>\n",
       "      <td>P-0000110</td>\n",
       "      <td>P-0000110-T01-IM3</td>\n",
       "      <td>66</td>\n",
       "      <td>Non-Small Cell Lung Cancer</td>\n",
       "      <td>Lung Adenocarcinoma</td>\n",
       "      <td>NO</td>\n",
       "      <td>EGFR_WT_AMP</td>\n",
       "      <td>NaN</td>\n",
       "      <td>0.2474</td>\n",
       "      <td>...</td>\n",
       "      <td>Male</td>\n",
       "      <td>Former heavy</td>\n",
       "      <td>Matched</td>\n",
       "      <td>NaN</td>\n",
       "      <td>IV</td>\n",
       "      <td>NO</td>\n",
       "      <td>16.637330</td>\n",
       "      <td>YES</td>\n",
       "      <td>50.0</td>\n",
       "      <td>AWD</td>\n",
       "    </tr>\n",
       "    <tr>\n",
       "      <th>3</th>\n",
       "      <td>lung_msk_2017</td>\n",
       "      <td>P-0000133</td>\n",
       "      <td>P-0000133-T01-IM3</td>\n",
       "      <td>79</td>\n",
       "      <td>Non-Small Cell Lung Cancer</td>\n",
       "      <td>Lung Adenocarcinoma</td>\n",
       "      <td>NO</td>\n",
       "      <td>PIK3CA</td>\n",
       "      <td>NaN</td>\n",
       "      <td>0.0026</td>\n",
       "      <td>...</td>\n",
       "      <td>Female</td>\n",
       "      <td>Never</td>\n",
       "      <td>Matched</td>\n",
       "      <td>NaN</td>\n",
       "      <td>IIIB</td>\n",
       "      <td>NO</td>\n",
       "      <td>4.436621</td>\n",
       "      <td>YES</td>\n",
       "      <td>30.0</td>\n",
       "      <td>AWD</td>\n",
       "    </tr>\n",
       "    <tr>\n",
       "      <th>4</th>\n",
       "      <td>lung_msk_2017</td>\n",
       "      <td>P-0000149</td>\n",
       "      <td>P-0000149-T01-IM3</td>\n",
       "      <td>50</td>\n",
       "      <td>Non-Small Cell Lung Cancer</td>\n",
       "      <td>Lung Adenocarcinoma</td>\n",
       "      <td>YES</td>\n",
       "      <td>ERBB2</td>\n",
       "      <td>YES</td>\n",
       "      <td>0.2691</td>\n",
       "      <td>...</td>\n",
       "      <td>Female</td>\n",
       "      <td>Former light</td>\n",
       "      <td>Matched</td>\n",
       "      <td>NaN</td>\n",
       "      <td>IV</td>\n",
       "      <td>YES</td>\n",
       "      <td>9.982398</td>\n",
       "      <td>YES</td>\n",
       "      <td>20.0</td>\n",
       "      <td>DOD</td>\n",
       "    </tr>\n",
       "    <tr>\n",
       "      <th>...</th>\n",
       "      <td>...</td>\n",
       "      <td>...</td>\n",
       "      <td>...</td>\n",
       "      <td>...</td>\n",
       "      <td>...</td>\n",
       "      <td>...</td>\n",
       "      <td>...</td>\n",
       "      <td>...</td>\n",
       "      <td>...</td>\n",
       "      <td>...</td>\n",
       "      <td>...</td>\n",
       "      <td>...</td>\n",
       "      <td>...</td>\n",
       "      <td>...</td>\n",
       "      <td>...</td>\n",
       "      <td>...</td>\n",
       "      <td>...</td>\n",
       "      <td>...</td>\n",
       "      <td>...</td>\n",
       "      <td>...</td>\n",
       "      <td>...</td>\n",
       "    </tr>\n",
       "    <tr>\n",
       "      <th>910</th>\n",
       "      <td>lung_msk_2017</td>\n",
       "      <td>P-0009959</td>\n",
       "      <td>P-0009959-T01-IM5</td>\n",
       "      <td>65</td>\n",
       "      <td>Non-Small Cell Lung Cancer</td>\n",
       "      <td>Lung Adenocarcinoma</td>\n",
       "      <td>NO</td>\n",
       "      <td>KRAS</td>\n",
       "      <td>NaN</td>\n",
       "      <td>0.1985</td>\n",
       "      <td>...</td>\n",
       "      <td>Male</td>\n",
       "      <td>Former heavy</td>\n",
       "      <td>Matched</td>\n",
       "      <td>NaN</td>\n",
       "      <td>IV</td>\n",
       "      <td>NO</td>\n",
       "      <td>2.936159</td>\n",
       "      <td>YES</td>\n",
       "      <td>20.0</td>\n",
       "      <td>AWD</td>\n",
       "    </tr>\n",
       "    <tr>\n",
       "      <th>911</th>\n",
       "      <td>lung_msk_2017</td>\n",
       "      <td>P-0010041</td>\n",
       "      <td>P-0010041-T01-IM5</td>\n",
       "      <td>46</td>\n",
       "      <td>Non-Small Cell Lung Cancer</td>\n",
       "      <td>Lung Adenocarcinoma</td>\n",
       "      <td>NO</td>\n",
       "      <td>ALK</td>\n",
       "      <td>YES</td>\n",
       "      <td>0.2027</td>\n",
       "      <td>...</td>\n",
       "      <td>Male</td>\n",
       "      <td>Never</td>\n",
       "      <td>Matched</td>\n",
       "      <td>NaN</td>\n",
       "      <td>IV</td>\n",
       "      <td>YES</td>\n",
       "      <td>0.978720</td>\n",
       "      <td>NO</td>\n",
       "      <td>70.0</td>\n",
       "      <td>AWD</td>\n",
       "    </tr>\n",
       "    <tr>\n",
       "      <th>912</th>\n",
       "      <td>lung_msk_2017</td>\n",
       "      <td>P-0010257</td>\n",
       "      <td>P-0010257-T01-IM5</td>\n",
       "      <td>54</td>\n",
       "      <td>Non-Small Cell Lung Cancer</td>\n",
       "      <td>Lung Adenocarcinoma</td>\n",
       "      <td>NO</td>\n",
       "      <td>BRAF</td>\n",
       "      <td>NO</td>\n",
       "      <td>0.1834</td>\n",
       "      <td>...</td>\n",
       "      <td>Female</td>\n",
       "      <td>Former heavy</td>\n",
       "      <td>Matched</td>\n",
       "      <td>NaN</td>\n",
       "      <td>IV</td>\n",
       "      <td>YES</td>\n",
       "      <td>9.787197</td>\n",
       "      <td>YES</td>\n",
       "      <td>30.0</td>\n",
       "      <td>DOD</td>\n",
       "    </tr>\n",
       "    <tr>\n",
       "      <th>913</th>\n",
       "      <td>lung_msk_2017</td>\n",
       "      <td>P-0010466</td>\n",
       "      <td>P-0010466-T01-IM5</td>\n",
       "      <td>60</td>\n",
       "      <td>Non-Small Cell Lung Cancer</td>\n",
       "      <td>Lung Adenocarcinoma</td>\n",
       "      <td>NO</td>\n",
       "      <td>MET</td>\n",
       "      <td>NO</td>\n",
       "      <td>0.1345</td>\n",
       "      <td>...</td>\n",
       "      <td>Female</td>\n",
       "      <td>Former light</td>\n",
       "      <td>Matched</td>\n",
       "      <td>NaN</td>\n",
       "      <td>IV</td>\n",
       "      <td>NO</td>\n",
       "      <td>1.957439</td>\n",
       "      <td>NO</td>\n",
       "      <td>20.0</td>\n",
       "      <td>AWD</td>\n",
       "    </tr>\n",
       "    <tr>\n",
       "      <th>914</th>\n",
       "      <td>lung_msk_2017</td>\n",
       "      <td>P-0011030</td>\n",
       "      <td>P-0011030-T01-IM5</td>\n",
       "      <td>69</td>\n",
       "      <td>Non-Small Cell Lung Cancer</td>\n",
       "      <td>Lung Adenocarcinoma</td>\n",
       "      <td>NO</td>\n",
       "      <td>PTEN_truncating</td>\n",
       "      <td>NaN</td>\n",
       "      <td>0.6416</td>\n",
       "      <td>...</td>\n",
       "      <td>Male</td>\n",
       "      <td>Never</td>\n",
       "      <td>Matched</td>\n",
       "      <td>NaN</td>\n",
       "      <td>IV</td>\n",
       "      <td>NO</td>\n",
       "      <td>0.978720</td>\n",
       "      <td>NO</td>\n",
       "      <td>30.0</td>\n",
       "      <td>DOD</td>\n",
       "    </tr>\n",
       "  </tbody>\n",
       "</table>\n",
       "<p>915 rows × 35 columns</p>\n",
       "</div>"
      ],
      "text/plain": [
       "          Study ID Patient ID          Sample ID  Diagnosis Age  \\\n",
       "0    lung_msk_2017  P-0000036  P-0000036-T01-IM3             57   \n",
       "1    lung_msk_2017  P-0000082  P-0000082-T01-IM3             56   \n",
       "2    lung_msk_2017  P-0000110  P-0000110-T01-IM3             66   \n",
       "3    lung_msk_2017  P-0000133  P-0000133-T01-IM3             79   \n",
       "4    lung_msk_2017  P-0000149  P-0000149-T01-IM3             50   \n",
       "..             ...        ...                ...            ...   \n",
       "910  lung_msk_2017  P-0009959  P-0009959-T01-IM5             65   \n",
       "911  lung_msk_2017  P-0010041  P-0010041-T01-IM5             46   \n",
       "912  lung_msk_2017  P-0010257  P-0010257-T01-IM5             54   \n",
       "913  lung_msk_2017  P-0010466  P-0010466-T01-IM5             60   \n",
       "914  lung_msk_2017  P-0011030  P-0011030-T01-IM5             69   \n",
       "\n",
       "                    Cancer Type Cancer Type Detailed Clinical Trial  \\\n",
       "0    Non-Small Cell Lung Cancer  Lung Adenocarcinoma             NO   \n",
       "1    Non-Small Cell Lung Cancer  Lung Adenocarcinoma            YES   \n",
       "2    Non-Small Cell Lung Cancer  Lung Adenocarcinoma             NO   \n",
       "3    Non-Small Cell Lung Cancer  Lung Adenocarcinoma             NO   \n",
       "4    Non-Small Cell Lung Cancer  Lung Adenocarcinoma            YES   \n",
       "..                          ...                  ...            ...   \n",
       "910  Non-Small Cell Lung Cancer  Lung Adenocarcinoma             NO   \n",
       "911  Non-Small Cell Lung Cancer  Lung Adenocarcinoma             NO   \n",
       "912  Non-Small Cell Lung Cancer  Lung Adenocarcinoma             NO   \n",
       "913  Non-Small Cell Lung Cancer  Lung Adenocarcinoma             NO   \n",
       "914  Non-Small Cell Lung Cancer  Lung Adenocarcinoma             NO   \n",
       "\n",
       "    Driver Mutations Durable Clinical Benefit  Fraction Genome Altered  ...  \\\n",
       "0               ROS1                      YES                   0.0185  ...   \n",
       "1               KRAS                       NO                   0.3606  ...   \n",
       "2        EGFR_WT_AMP                      NaN                   0.2474  ...   \n",
       "3             PIK3CA                      NaN                   0.0026  ...   \n",
       "4              ERBB2                      YES                   0.2691  ...   \n",
       "..               ...                      ...                      ...  ...   \n",
       "910             KRAS                      NaN                   0.1985  ...   \n",
       "911              ALK                      YES                   0.2027  ...   \n",
       "912             BRAF                       NO                   0.1834  ...   \n",
       "913              MET                       NO                   0.1345  ...   \n",
       "914  PTEN_truncating                      NaN                   0.6416  ...   \n",
       "\n",
       "        Sex Smoking History Somatic Status  SO comments Stage At Diagnosis  \\\n",
       "0    Female           Never      Unmatched          NaN                 IV   \n",
       "1      Male    Former heavy        Matched          NaN                 IA   \n",
       "2      Male    Former heavy        Matched          NaN                 IV   \n",
       "3    Female           Never        Matched          NaN               IIIB   \n",
       "4    Female    Former light        Matched          NaN                 IV   \n",
       "..      ...             ...            ...          ...                ...   \n",
       "910    Male    Former heavy        Matched          NaN                 IV   \n",
       "911    Male           Never        Matched          NaN                 IV   \n",
       "912  Female    Former heavy        Matched          NaN                 IV   \n",
       "913  Female    Former light        Matched          NaN                 IV   \n",
       "914    Male           Never        Matched          NaN                 IV   \n",
       "\n",
       "     Target Therapy TMB (nonsynonymous) Chemotherapy Tumor Purity  \\\n",
       "0               YES            7.764087          YES         30.0   \n",
       "1               YES            1.109155          YES          NaN   \n",
       "2                NO           16.637330          YES         50.0   \n",
       "3                NO            4.436621          YES         30.0   \n",
       "4               YES            9.982398          YES         20.0   \n",
       "..              ...                 ...          ...          ...   \n",
       "910              NO            2.936159          YES         20.0   \n",
       "911             YES            0.978720           NO         70.0   \n",
       "912             YES            9.787197          YES         30.0   \n",
       "913              NO            1.957439           NO         20.0   \n",
       "914              NO            0.978720           NO         30.0   \n",
       "\n",
       "    Patient's Vital Status  \n",
       "0                      AWD  \n",
       "1                      AWD  \n",
       "2                      AWD  \n",
       "3                      AWD  \n",
       "4                      DOD  \n",
       "..                     ...  \n",
       "910                    AWD  \n",
       "911                    AWD  \n",
       "912                    DOD  \n",
       "913                    AWD  \n",
       "914                    DOD  \n",
       "\n",
       "[915 rows x 35 columns]"
      ]
     },
     "execution_count": 3,
     "metadata": {},
     "output_type": "execute_result"
    }
   ],
   "source": [
    "#read the dataset \n",
    "data = pd.read_csv('lung_msk_2017_clinical_data.tsv', sep='\\t')\n",
    "#show the data\n",
    "data"
   ]
  },
  {
   "cell_type": "code",
   "execution_count": 4,
   "metadata": {},
   "outputs": [
    {
     "name": "stdout",
     "output_type": "stream",
     "text": [
      "Total number of samples: 915\n"
     ]
    }
   ],
   "source": [
    "print(\"Total number of samples:\",len(data))"
   ]
  },
  {
   "cell_type": "code",
   "execution_count": 5,
   "metadata": {},
   "outputs": [
    {
     "data": {
      "text/html": [
       "<div>\n",
       "<style scoped>\n",
       "    .dataframe tbody tr th:only-of-type {\n",
       "        vertical-align: middle;\n",
       "    }\n",
       "\n",
       "    .dataframe tbody tr th {\n",
       "        vertical-align: top;\n",
       "    }\n",
       "\n",
       "    .dataframe thead th {\n",
       "        text-align: right;\n",
       "    }\n",
       "</style>\n",
       "<table border=\"1\" class=\"dataframe\">\n",
       "  <thead>\n",
       "    <tr style=\"text-align: right;\">\n",
       "      <th></th>\n",
       "      <th>Diagnosis Age</th>\n",
       "      <th>Fraction Genome Altered</th>\n",
       "      <th>Number Treatment Lines Prior To Receiving Impact Results</th>\n",
       "      <th>Mutation Count</th>\n",
       "      <th>Number of Samples Per Patient</th>\n",
       "      <th>Sample coverage</th>\n",
       "      <th>TMB (nonsynonymous)</th>\n",
       "      <th>Tumor Purity</th>\n",
       "    </tr>\n",
       "  </thead>\n",
       "  <tbody>\n",
       "    <tr>\n",
       "      <th>count</th>\n",
       "      <td>915.000000</td>\n",
       "      <td>915.000000</td>\n",
       "      <td>914.000000</td>\n",
       "      <td>915.000000</td>\n",
       "      <td>915.000000</td>\n",
       "      <td>915.000000</td>\n",
       "      <td>915.000000</td>\n",
       "      <td>820.000000</td>\n",
       "    </tr>\n",
       "    <tr>\n",
       "      <th>mean</th>\n",
       "      <td>62.716940</td>\n",
       "      <td>0.191131</td>\n",
       "      <td>0.564551</td>\n",
       "      <td>7.832787</td>\n",
       "      <td>1.122404</td>\n",
       "      <td>712.645902</td>\n",
       "      <td>7.931942</td>\n",
       "      <td>38.867073</td>\n",
       "    </tr>\n",
       "    <tr>\n",
       "      <th>std</th>\n",
       "      <td>11.983289</td>\n",
       "      <td>0.187469</td>\n",
       "      <td>0.946945</td>\n",
       "      <td>8.072119</td>\n",
       "      <td>0.337792</td>\n",
       "      <td>260.633665</td>\n",
       "      <td>8.217923</td>\n",
       "      <td>20.344965</td>\n",
       "    </tr>\n",
       "    <tr>\n",
       "      <th>min</th>\n",
       "      <td>9.000000</td>\n",
       "      <td>0.000000</td>\n",
       "      <td>0.000000</td>\n",
       "      <td>0.000000</td>\n",
       "      <td>1.000000</td>\n",
       "      <td>14.000000</td>\n",
       "      <td>0.000000</td>\n",
       "      <td>5.000000</td>\n",
       "    </tr>\n",
       "    <tr>\n",
       "      <th>25%</th>\n",
       "      <td>56.000000</td>\n",
       "      <td>0.023000</td>\n",
       "      <td>0.000000</td>\n",
       "      <td>3.000000</td>\n",
       "      <td>1.000000</td>\n",
       "      <td>538.500000</td>\n",
       "      <td>2.936159</td>\n",
       "      <td>20.000000</td>\n",
       "    </tr>\n",
       "    <tr>\n",
       "      <th>50%</th>\n",
       "      <td>64.000000</td>\n",
       "      <td>0.143100</td>\n",
       "      <td>0.000000</td>\n",
       "      <td>6.000000</td>\n",
       "      <td>1.000000</td>\n",
       "      <td>712.000000</td>\n",
       "      <td>5.872318</td>\n",
       "      <td>37.500000</td>\n",
       "    </tr>\n",
       "    <tr>\n",
       "      <th>75%</th>\n",
       "      <td>71.000000</td>\n",
       "      <td>0.303750</td>\n",
       "      <td>1.000000</td>\n",
       "      <td>10.000000</td>\n",
       "      <td>1.000000</td>\n",
       "      <td>891.000000</td>\n",
       "      <td>9.982398</td>\n",
       "      <td>50.000000</td>\n",
       "    </tr>\n",
       "    <tr>\n",
       "      <th>max</th>\n",
       "      <td>93.000000</td>\n",
       "      <td>0.841400</td>\n",
       "      <td>7.000000</td>\n",
       "      <td>90.000000</td>\n",
       "      <td>3.000000</td>\n",
       "      <td>2073.000000</td>\n",
       "      <td>96.496511</td>\n",
       "      <td>90.000000</td>\n",
       "    </tr>\n",
       "  </tbody>\n",
       "</table>\n",
       "</div>"
      ],
      "text/plain": [
       "       Diagnosis Age  Fraction Genome Altered  \\\n",
       "count     915.000000               915.000000   \n",
       "mean       62.716940                 0.191131   \n",
       "std        11.983289                 0.187469   \n",
       "min         9.000000                 0.000000   \n",
       "25%        56.000000                 0.023000   \n",
       "50%        64.000000                 0.143100   \n",
       "75%        71.000000                 0.303750   \n",
       "max        93.000000                 0.841400   \n",
       "\n",
       "       Number Treatment Lines Prior To Receiving Impact Results  \\\n",
       "count                                         914.000000          \n",
       "mean                                            0.564551          \n",
       "std                                             0.946945          \n",
       "min                                             0.000000          \n",
       "25%                                             0.000000          \n",
       "50%                                             0.000000          \n",
       "75%                                             1.000000          \n",
       "max                                             7.000000          \n",
       "\n",
       "       Mutation Count  Number of Samples Per Patient  Sample coverage  \\\n",
       "count      915.000000                     915.000000       915.000000   \n",
       "mean         7.832787                       1.122404       712.645902   \n",
       "std          8.072119                       0.337792       260.633665   \n",
       "min          0.000000                       1.000000        14.000000   \n",
       "25%          3.000000                       1.000000       538.500000   \n",
       "50%          6.000000                       1.000000       712.000000   \n",
       "75%         10.000000                       1.000000       891.000000   \n",
       "max         90.000000                       3.000000      2073.000000   \n",
       "\n",
       "       TMB (nonsynonymous)  Tumor Purity  \n",
       "count           915.000000    820.000000  \n",
       "mean              7.931942     38.867073  \n",
       "std               8.217923     20.344965  \n",
       "min               0.000000      5.000000  \n",
       "25%               2.936159     20.000000  \n",
       "50%               5.872318     37.500000  \n",
       "75%               9.982398     50.000000  \n",
       "max              96.496511     90.000000  "
      ]
     },
     "execution_count": 5,
     "metadata": {},
     "output_type": "execute_result"
    }
   ],
   "source": [
    "data.describe()"
   ]
  },
  {
   "cell_type": "code",
   "execution_count": 6,
   "metadata": {},
   "outputs": [
    {
     "data": {
      "text/plain": [
       "Index(['Study ID', 'Patient ID', 'Sample ID', 'Diagnosis Age', 'Cancer Type',\n",
       "       'Cancer Type Detailed', 'Clinical Trial', 'Driver Mutations',\n",
       "       'Durable Clinical Benefit', 'Fraction Genome Altered', 'Gene Panel',\n",
       "       'Immunotherapy', 'Institute Source',\n",
       "       'Number Treatment Lines Prior To Receiving Impact Results',\n",
       "       'Metastatic Site', 'Mutation Count', 'Oncotree Code',\n",
       "       'Overall Patient Histology', 'Primary Tumor Site',\n",
       "       'Recurrent/metastatic disease', 'Sample Class',\n",
       "       'Number of Samples Per Patient', 'Sample coverage',\n",
       "       'Sample pre any Lung Therapy', 'Sample Type', 'Sex', 'Smoking History',\n",
       "       'Somatic Status', 'SO comments', 'Stage At Diagnosis', 'Target Therapy',\n",
       "       'TMB (nonsynonymous)', 'Chemotherapy', 'Tumor Purity',\n",
       "       'Patient's Vital Status'],\n",
       "      dtype='object')"
      ]
     },
     "execution_count": 6,
     "metadata": {},
     "output_type": "execute_result"
    }
   ],
   "source": [
    "data.columns"
   ]
  },
  {
   "cell_type": "code",
   "execution_count": 7,
   "metadata": {
    "scrolled": true
   },
   "outputs": [
    {
     "name": "stdout",
     "output_type": "stream",
     "text": [
      "The total number of columns in this data set are 35\n"
     ]
    }
   ],
   "source": [
    "print(\"The total number of columns in this data set are\", len(data.columns))"
   ]
  },
  {
   "cell_type": "code",
   "execution_count": 8,
   "metadata": {},
   "outputs": [
    {
     "data": {
      "text/plain": [
       "Study ID                                                    False\n",
       "Patient ID                                                  False\n",
       "Sample ID                                                   False\n",
       "Diagnosis Age                                               False\n",
       "Cancer Type                                                 False\n",
       "Cancer Type Detailed                                        False\n",
       "Clinical Trial                                               True\n",
       "Driver Mutations                                            False\n",
       "Durable Clinical Benefit                                     True\n",
       "Fraction Genome Altered                                     False\n",
       "Gene Panel                                                  False\n",
       "Immunotherapy                                                True\n",
       "Institute Source                                            False\n",
       "Number Treatment Lines Prior To Receiving Impact Results     True\n",
       "Metastatic Site                                              True\n",
       "Mutation Count                                              False\n",
       "Oncotree Code                                               False\n",
       "Overall Patient Histology                                   False\n",
       "Primary Tumor Site                                          False\n",
       "Recurrent/metastatic disease                                False\n",
       "Sample Class                                                False\n",
       "Number of Samples Per Patient                               False\n",
       "Sample coverage                                             False\n",
       "Sample pre any Lung Therapy                                 False\n",
       "Sample Type                                                 False\n",
       "Sex                                                         False\n",
       "Smoking History                                             False\n",
       "Somatic Status                                               True\n",
       "SO comments                                                  True\n",
       "Stage At Diagnosis                                          False\n",
       "Target Therapy                                              False\n",
       "TMB (nonsynonymous)                                         False\n",
       "Chemotherapy                                                 True\n",
       "Tumor Purity                                                 True\n",
       "Patient's Vital Status                                      False\n",
       "dtype: bool"
      ]
     },
     "execution_count": 8,
     "metadata": {},
     "output_type": "execute_result"
    }
   ],
   "source": [
    "data.isnull().any()"
   ]
  },
  {
   "cell_type": "code",
   "execution_count": null,
   "metadata": {},
   "outputs": [],
   "source": [
    "####### Visualizing the unclean data"
   ]
  },
  {
   "cell_type": "code",
   "execution_count": 9,
   "metadata": {
    "scrolled": true
   },
   "outputs": [
    {
     "data": {
      "text/plain": [
       "<matplotlib.axes._subplots.AxesSubplot at 0x2eba6ecb3d0>"
      ]
     },
     "execution_count": 9,
     "metadata": {},
     "output_type": "execute_result"
    },
    {
     "data": {
      "image/png": "[encoded data removed]",
      "text/plain": [
       "<Figure size 432x288 with 2 Axes>"
      ]
     },
     "metadata": {
      "needs_background": "light"
     },
     "output_type": "display_data"
    }
   ],
   "source": [
    "sns.heatmap(data.isnull(), cmap=\"rainbow\", yticklabels= False)"
   ]
  },
  {
   "cell_type": "code",
   "execution_count": null,
   "metadata": {},
   "outputs": [],
   "source": [
    "#################  CLEANING THE DATA ##################"
   ]
  },
  {
   "cell_type": "code",
   "execution_count": 10,
   "metadata": {},
   "outputs": [
    {
     "data": {
      "text/plain": [
       "False"
      ]
     },
     "execution_count": 10,
     "metadata": {},
     "output_type": "execute_result"
    }
   ],
   "source": [
    "data.duplicated().any()"
   ]
  },
  {
   "cell_type": "code",
   "execution_count": 11,
   "metadata": {
    "scrolled": true
   },
   "outputs": [
    {
     "data": {
      "text/plain": [
       "Index(['Study ID', 'Patient ID', 'Sample ID', 'Diagnosis Age', 'Cancer Type',\n",
       "       'Cancer Type Detailed', 'Driver Mutations', 'Durable Clinical Benefit',\n",
       "       'Fraction Genome Altered', 'Gene Panel', 'Immunotherapy',\n",
       "       'Institute Source',\n",
       "       'Number Treatment Lines Prior To Receiving Impact Results',\n",
       "       'Mutation Count', 'Oncotree Code', 'Overall Patient Histology',\n",
       "       'Primary Tumor Site', 'Recurrent/metastatic disease', 'Sample Class',\n",
       "       'Number of Samples Per Patient', 'Sample coverage',\n",
       "       'Sample pre any Lung Therapy', 'Sample Type', 'Sex', 'Smoking History',\n",
       "       'Stage At Diagnosis', 'Target Therapy', 'TMB (nonsynonymous)',\n",
       "       'Chemotherapy', 'Tumor Purity', 'Patient's Vital Status'],\n",
       "      dtype='object')"
      ]
     },
     "execution_count": 11,
     "metadata": {},
     "output_type": "execute_result"
    }
   ],
   "source": [
    "#dropping insignificant columns that give a null value.\n",
    "data1=data.drop([\"Somatic Status\",\"SO comments\",\"Clinical Trial\",\"Metastatic Site\"], axis=1)\n",
    "data1.columns"
   ]
  },
  {
   "cell_type": "code",
   "execution_count": 12,
   "metadata": {},
   "outputs": [
    {
     "data": {
      "text/plain": [
       "Study ID                                                    False\n",
       "Patient ID                                                  False\n",
       "Sample ID                                                   False\n",
       "Diagnosis Age                                               False\n",
       "Cancer Type                                                 False\n",
       "Cancer Type Detailed                                        False\n",
       "Driver Mutations                                            False\n",
       "Durable Clinical Benefit                                     True\n",
       "Fraction Genome Altered                                     False\n",
       "Gene Panel                                                  False\n",
       "Immunotherapy                                                True\n",
       "Institute Source                                            False\n",
       "Number Treatment Lines Prior To Receiving Impact Results     True\n",
       "Mutation Count                                              False\n",
       "Oncotree Code                                               False\n",
       "Overall Patient Histology                                   False\n",
       "Primary Tumor Site                                          False\n",
       "Recurrent/metastatic disease                                False\n",
       "Sample Class                                                False\n",
       "Number of Samples Per Patient                               False\n",
       "Sample coverage                                             False\n",
       "Sample pre any Lung Therapy                                 False\n",
       "Sample Type                                                 False\n",
       "Sex                                                         False\n",
       "Smoking History                                             False\n",
       "Stage At Diagnosis                                          False\n",
       "Target Therapy                                              False\n",
       "TMB (nonsynonymous)                                         False\n",
       "Chemotherapy                                                 True\n",
       "Tumor Purity                                                 True\n",
       "Patient's Vital Status                                      False\n",
       "dtype: bool"
      ]
     },
     "execution_count": 12,
     "metadata": {},
     "output_type": "execute_result"
    }
   ],
   "source": [
    "data1.isnull().any()"
   ]
  },
  {
   "cell_type": "code",
   "execution_count": 13,
   "metadata": {},
   "outputs": [
    {
     "data": {
      "text/plain": [
       "Study ID                                                    False\n",
       "Patient ID                                                  False\n",
       "Sample ID                                                   False\n",
       "Diagnosis Age                                               False\n",
       "Cancer Type                                                 False\n",
       "Cancer Type Detailed                                        False\n",
       "Driver Mutations                                            False\n",
       "Durable Clinical Benefit                                    False\n",
       "Fraction Genome Altered                                     False\n",
       "Gene Panel                                                  False\n",
       "Immunotherapy                                               False\n",
       "Institute Source                                            False\n",
       "Number Treatment Lines Prior To Receiving Impact Results    False\n",
       "Mutation Count                                              False\n",
       "Oncotree Code                                               False\n",
       "Overall Patient Histology                                   False\n",
       "Primary Tumor Site                                          False\n",
       "Recurrent/metastatic disease                                False\n",
       "Sample Class                                                False\n",
       "Number of Samples Per Patient                               False\n",
       "Sample coverage                                             False\n",
       "Sample pre any Lung Therapy                                 False\n",
       "Sample Type                                                 False\n",
       "Sex                                                         False\n",
       "Smoking History                                             False\n",
       "Stage At Diagnosis                                          False\n",
       "Target Therapy                                              False\n",
       "TMB (nonsynonymous)                                         False\n",
       "Chemotherapy                                                False\n",
       "Tumor Purity                                                False\n",
       "Patient's Vital Status                                      False\n",
       "dtype: bool"
      ]
     },
     "execution_count": 13,
     "metadata": {},
     "output_type": "execute_result"
    }
   ],
   "source": [
    "#cleaning data by removing rows that have null values\n",
    "clean_data = data1.dropna()\n",
    "\n",
    "#verifying that there are no null values\n",
    "clean_data.isnull().any()"
   ]
  },
  {
   "cell_type": "code",
   "execution_count": 14,
   "metadata": {},
   "outputs": [
    {
     "name": "stdout",
     "output_type": "stream",
     "text": [
      "The total number of samples in the cleaned data 342\n"
     ]
    }
   ],
   "source": [
    "print(\"The total number of samples in the cleaned data\",len(clean_data))"
   ]
  },
  {
   "cell_type": "code",
   "execution_count": 15,
   "metadata": {
    "scrolled": true
   },
   "outputs": [
    {
     "data": {
      "text/plain": [
       "<matplotlib.axes._subplots.AxesSubplot at 0x2ebac61e760>"
      ]
     },
     "execution_count": 15,
     "metadata": {},
     "output_type": "execute_result"
    },
    {
     "data": {
      "image/png": "[encoded data removed]",
      "text/plain": [
       "<Figure size 432x288 with 2 Axes>"
      ]
     },
     "metadata": {
      "needs_background": "light"
     },
     "output_type": "display_data"
    }
   ],
   "source": [
    "############ DATA VISUALIZATION OF THE CLEAN DATA ############\n",
    "sns.heatmap(clean_data.isnull(), cmap=\"rainbow\", yticklabels= False)"
   ]
  },
  {
   "cell_type": "code",
   "execution_count": 16,
   "metadata": {},
   "outputs": [
    {
     "data": {
      "text/html": [
       "<div>\n",
       "<style scoped>\n",
       "    .dataframe tbody tr th:only-of-type {\n",
       "        vertical-align: middle;\n",
       "    }\n",
       "\n",
       "    .dataframe tbody tr th {\n",
       "        vertical-align: top;\n",
       "    }\n",
       "\n",
       "    .dataframe thead th {\n",
       "        text-align: right;\n",
       "    }\n",
       "</style>\n",
       "<table border=\"1\" class=\"dataframe\">\n",
       "  <thead>\n",
       "    <tr style=\"text-align: right;\">\n",
       "      <th></th>\n",
       "      <th>Diagnosis Age</th>\n",
       "      <th>Fraction Genome Altered</th>\n",
       "      <th>Number Treatment Lines Prior To Receiving Impact Results</th>\n",
       "      <th>Mutation Count</th>\n",
       "      <th>Number of Samples Per Patient</th>\n",
       "      <th>Sample coverage</th>\n",
       "      <th>TMB (nonsynonymous)</th>\n",
       "      <th>Tumor Purity</th>\n",
       "    </tr>\n",
       "  </thead>\n",
       "  <tbody>\n",
       "    <tr>\n",
       "      <th>count</th>\n",
       "      <td>342.000000</td>\n",
       "      <td>342.000000</td>\n",
       "      <td>342.000000</td>\n",
       "      <td>342.00000</td>\n",
       "      <td>342.000000</td>\n",
       "      <td>342.000000</td>\n",
       "      <td>342.000000</td>\n",
       "      <td>342.000000</td>\n",
       "    </tr>\n",
       "    <tr>\n",
       "      <th>mean</th>\n",
       "      <td>60.660819</td>\n",
       "      <td>0.221640</td>\n",
       "      <td>0.818713</td>\n",
       "      <td>4.98538</td>\n",
       "      <td>1.210526</td>\n",
       "      <td>716.274854</td>\n",
       "      <td>5.079885</td>\n",
       "      <td>39.520468</td>\n",
       "    </tr>\n",
       "    <tr>\n",
       "      <th>std</th>\n",
       "      <td>12.619709</td>\n",
       "      <td>0.183988</td>\n",
       "      <td>1.149729</td>\n",
       "      <td>3.78875</td>\n",
       "      <td>0.429287</td>\n",
       "      <td>270.878251</td>\n",
       "      <td>3.949630</td>\n",
       "      <td>20.131340</td>\n",
       "    </tr>\n",
       "    <tr>\n",
       "      <th>min</th>\n",
       "      <td>16.000000</td>\n",
       "      <td>0.000000</td>\n",
       "      <td>0.000000</td>\n",
       "      <td>0.00000</td>\n",
       "      <td>1.000000</td>\n",
       "      <td>59.000000</td>\n",
       "      <td>0.000000</td>\n",
       "      <td>5.000000</td>\n",
       "    </tr>\n",
       "    <tr>\n",
       "      <th>25%</th>\n",
       "      <td>53.000000</td>\n",
       "      <td>0.058375</td>\n",
       "      <td>0.000000</td>\n",
       "      <td>2.00000</td>\n",
       "      <td>1.000000</td>\n",
       "      <td>535.000000</td>\n",
       "      <td>2.218311</td>\n",
       "      <td>20.000000</td>\n",
       "    </tr>\n",
       "    <tr>\n",
       "      <th>50%</th>\n",
       "      <td>61.500000</td>\n",
       "      <td>0.194750</td>\n",
       "      <td>0.000000</td>\n",
       "      <td>4.00000</td>\n",
       "      <td>1.000000</td>\n",
       "      <td>711.500000</td>\n",
       "      <td>3.914879</td>\n",
       "      <td>40.000000</td>\n",
       "    </tr>\n",
       "    <tr>\n",
       "      <th>75%</th>\n",
       "      <td>69.000000</td>\n",
       "      <td>0.340475</td>\n",
       "      <td>1.000000</td>\n",
       "      <td>7.00000</td>\n",
       "      <td>1.000000</td>\n",
       "      <td>898.750000</td>\n",
       "      <td>6.851038</td>\n",
       "      <td>50.000000</td>\n",
       "    </tr>\n",
       "    <tr>\n",
       "      <th>max</th>\n",
       "      <td>93.000000</td>\n",
       "      <td>0.820900</td>\n",
       "      <td>7.000000</td>\n",
       "      <td>26.00000</td>\n",
       "      <td>3.000000</td>\n",
       "      <td>2073.000000</td>\n",
       "      <td>28.838038</td>\n",
       "      <td>90.000000</td>\n",
       "    </tr>\n",
       "  </tbody>\n",
       "</table>\n",
       "</div>"
      ],
      "text/plain": [
       "       Diagnosis Age  Fraction Genome Altered  \\\n",
       "count     342.000000               342.000000   \n",
       "mean       60.660819                 0.221640   \n",
       "std        12.619709                 0.183988   \n",
       "min        16.000000                 0.000000   \n",
       "25%        53.000000                 0.058375   \n",
       "50%        61.500000                 0.194750   \n",
       "75%        69.000000                 0.340475   \n",
       "max        93.000000                 0.820900   \n",
       "\n",
       "       Number Treatment Lines Prior To Receiving Impact Results  \\\n",
       "count                                         342.000000          \n",
       "mean                                            0.818713          \n",
       "std                                             1.149729          \n",
       "min                                             0.000000          \n",
       "25%                                             0.000000          \n",
       "50%                                             0.000000          \n",
       "75%                                             1.000000          \n",
       "max                                             7.000000          \n",
       "\n",
       "       Mutation Count  Number of Samples Per Patient  Sample coverage  \\\n",
       "count       342.00000                     342.000000       342.000000   \n",
       "mean          4.98538                       1.210526       716.274854   \n",
       "std           3.78875                       0.429287       270.878251   \n",
       "min           0.00000                       1.000000        59.000000   \n",
       "25%           2.00000                       1.000000       535.000000   \n",
       "50%           4.00000                       1.000000       711.500000   \n",
       "75%           7.00000                       1.000000       898.750000   \n",
       "max          26.00000                       3.000000      2073.000000   \n",
       "\n",
       "       TMB (nonsynonymous)  Tumor Purity  \n",
       "count           342.000000    342.000000  \n",
       "mean              5.079885     39.520468  \n",
       "std               3.949630     20.131340  \n",
       "min               0.000000      5.000000  \n",
       "25%               2.218311     20.000000  \n",
       "50%               3.914879     40.000000  \n",
       "75%               6.851038     50.000000  \n",
       "max              28.838038     90.000000  "
      ]
     },
     "execution_count": 16,
     "metadata": {},
     "output_type": "execute_result"
    }
   ],
   "source": [
    "clean_data.describe()"
   ]
  },
  {
   "cell_type": "code",
   "execution_count": 17,
   "metadata": {
    "scrolled": true
   },
   "outputs": [
    {
     "data": {
      "text/html": [
       "<div>\n",
       "<style scoped>\n",
       "    .dataframe tbody tr th:only-of-type {\n",
       "        vertical-align: middle;\n",
       "    }\n",
       "\n",
       "    .dataframe tbody tr th {\n",
       "        vertical-align: top;\n",
       "    }\n",
       "\n",
       "    .dataframe thead th {\n",
       "        text-align: right;\n",
       "    }\n",
       "</style>\n",
       "<table border=\"1\" class=\"dataframe\">\n",
       "  <thead>\n",
       "    <tr style=\"text-align: right;\">\n",
       "      <th></th>\n",
       "      <th>Study ID</th>\n",
       "      <th>Patient ID</th>\n",
       "      <th>Sample ID</th>\n",
       "      <th>Diagnosis Age</th>\n",
       "      <th>Cancer Type</th>\n",
       "      <th>Cancer Type Detailed</th>\n",
       "      <th>Driver Mutations</th>\n",
       "      <th>Durable Clinical Benefit</th>\n",
       "      <th>Fraction Genome Altered</th>\n",
       "      <th>Gene Panel</th>\n",
       "      <th>...</th>\n",
       "      <th>Sample pre any Lung Therapy</th>\n",
       "      <th>Sample Type</th>\n",
       "      <th>Sex</th>\n",
       "      <th>Smoking History</th>\n",
       "      <th>Stage At Diagnosis</th>\n",
       "      <th>Target Therapy</th>\n",
       "      <th>TMB (nonsynonymous)</th>\n",
       "      <th>Chemotherapy</th>\n",
       "      <th>Tumor Purity</th>\n",
       "      <th>Patient's Vital Status</th>\n",
       "    </tr>\n",
       "  </thead>\n",
       "  <tbody>\n",
       "    <tr>\n",
       "      <th>0</th>\n",
       "      <td>lung_msk_2017</td>\n",
       "      <td>P-0000036</td>\n",
       "      <td>P-0000036-T01-IM3</td>\n",
       "      <td>57</td>\n",
       "      <td>Non-Small Cell Lung Cancer</td>\n",
       "      <td>Lung Adenocarcinoma</td>\n",
       "      <td>ROS1</td>\n",
       "      <td>YES</td>\n",
       "      <td>0.0185</td>\n",
       "      <td>IMPACT341</td>\n",
       "      <td>...</td>\n",
       "      <td>YES</td>\n",
       "      <td>Primary</td>\n",
       "      <td>Female</td>\n",
       "      <td>Never</td>\n",
       "      <td>IV</td>\n",
       "      <td>YES</td>\n",
       "      <td>7.764087</td>\n",
       "      <td>YES</td>\n",
       "      <td>30.0</td>\n",
       "      <td>AWD</td>\n",
       "    </tr>\n",
       "    <tr>\n",
       "      <th>4</th>\n",
       "      <td>lung_msk_2017</td>\n",
       "      <td>P-0000149</td>\n",
       "      <td>P-0000149-T01-IM3</td>\n",
       "      <td>50</td>\n",
       "      <td>Non-Small Cell Lung Cancer</td>\n",
       "      <td>Lung Adenocarcinoma</td>\n",
       "      <td>ERBB2</td>\n",
       "      <td>YES</td>\n",
       "      <td>0.2691</td>\n",
       "      <td>IMPACT341</td>\n",
       "      <td>...</td>\n",
       "      <td>NO</td>\n",
       "      <td>Metastasis</td>\n",
       "      <td>Female</td>\n",
       "      <td>Former light</td>\n",
       "      <td>IV</td>\n",
       "      <td>YES</td>\n",
       "      <td>9.982398</td>\n",
       "      <td>YES</td>\n",
       "      <td>20.0</td>\n",
       "      <td>DOD</td>\n",
       "    </tr>\n",
       "    <tr>\n",
       "      <th>5</th>\n",
       "      <td>lung_msk_2017</td>\n",
       "      <td>P-0000149</td>\n",
       "      <td>P-0000149-T02-IM3</td>\n",
       "      <td>50</td>\n",
       "      <td>Non-Small Cell Lung Cancer</td>\n",
       "      <td>Lung Adenocarcinoma</td>\n",
       "      <td>ERBB2</td>\n",
       "      <td>YES</td>\n",
       "      <td>0.4502</td>\n",
       "      <td>IMPACT341</td>\n",
       "      <td>...</td>\n",
       "      <td>YES</td>\n",
       "      <td>Metastasis</td>\n",
       "      <td>Female</td>\n",
       "      <td>Former light</td>\n",
       "      <td>IV</td>\n",
       "      <td>YES</td>\n",
       "      <td>4.436621</td>\n",
       "      <td>YES</td>\n",
       "      <td>50.0</td>\n",
       "      <td>DOD</td>\n",
       "    </tr>\n",
       "    <tr>\n",
       "      <th>6</th>\n",
       "      <td>lung_msk_2017</td>\n",
       "      <td>P-0000163</td>\n",
       "      <td>P-0000163-T01-IM3</td>\n",
       "      <td>37</td>\n",
       "      <td>Non-Small Cell Lung Cancer</td>\n",
       "      <td>Lung Adenocarcinoma</td>\n",
       "      <td>No mutations</td>\n",
       "      <td>NO</td>\n",
       "      <td>0.0000</td>\n",
       "      <td>IMPACT341</td>\n",
       "      <td>...</td>\n",
       "      <td>NO</td>\n",
       "      <td>Metastasis</td>\n",
       "      <td>Female</td>\n",
       "      <td>Former light</td>\n",
       "      <td>IV</td>\n",
       "      <td>YES</td>\n",
       "      <td>0.000000</td>\n",
       "      <td>YES</td>\n",
       "      <td>5.0</td>\n",
       "      <td>DOD</td>\n",
       "    </tr>\n",
       "    <tr>\n",
       "      <th>7</th>\n",
       "      <td>lung_msk_2017</td>\n",
       "      <td>P-0000163</td>\n",
       "      <td>P-0000163-T02-IM3</td>\n",
       "      <td>37</td>\n",
       "      <td>Non-Small Cell Lung Cancer</td>\n",
       "      <td>Lung Adenocarcinoma</td>\n",
       "      <td>ERBB2</td>\n",
       "      <td>NO</td>\n",
       "      <td>0.3584</td>\n",
       "      <td>IMPACT341</td>\n",
       "      <td>...</td>\n",
       "      <td>NO</td>\n",
       "      <td>Metastasis</td>\n",
       "      <td>Female</td>\n",
       "      <td>Former light</td>\n",
       "      <td>IV</td>\n",
       "      <td>YES</td>\n",
       "      <td>3.327466</td>\n",
       "      <td>YES</td>\n",
       "      <td>80.0</td>\n",
       "      <td>DOD</td>\n",
       "    </tr>\n",
       "    <tr>\n",
       "      <th>...</th>\n",
       "      <td>...</td>\n",
       "      <td>...</td>\n",
       "      <td>...</td>\n",
       "      <td>...</td>\n",
       "      <td>...</td>\n",
       "      <td>...</td>\n",
       "      <td>...</td>\n",
       "      <td>...</td>\n",
       "      <td>...</td>\n",
       "      <td>...</td>\n",
       "      <td>...</td>\n",
       "      <td>...</td>\n",
       "      <td>...</td>\n",
       "      <td>...</td>\n",
       "      <td>...</td>\n",
       "      <td>...</td>\n",
       "      <td>...</td>\n",
       "      <td>...</td>\n",
       "      <td>...</td>\n",
       "      <td>...</td>\n",
       "      <td>...</td>\n",
       "    </tr>\n",
       "    <tr>\n",
       "      <th>904</th>\n",
       "      <td>lung_msk_2017</td>\n",
       "      <td>P-0009861</td>\n",
       "      <td>P-0009861-T01-IM5</td>\n",
       "      <td>86</td>\n",
       "      <td>Non-Small Cell Lung Cancer</td>\n",
       "      <td>Lung Adenocarcinoma</td>\n",
       "      <td>EGFR</td>\n",
       "      <td>YES</td>\n",
       "      <td>0.0560</td>\n",
       "      <td>IMPACT410</td>\n",
       "      <td>...</td>\n",
       "      <td>YES</td>\n",
       "      <td>Metastasis</td>\n",
       "      <td>Female</td>\n",
       "      <td>Never</td>\n",
       "      <td>IV</td>\n",
       "      <td>YES</td>\n",
       "      <td>1.957439</td>\n",
       "      <td>NO</td>\n",
       "      <td>20.0</td>\n",
       "      <td>AWD</td>\n",
       "    </tr>\n",
       "    <tr>\n",
       "      <th>908</th>\n",
       "      <td>lung_msk_2017</td>\n",
       "      <td>P-0009928</td>\n",
       "      <td>P-0009928-T01-IM5</td>\n",
       "      <td>70</td>\n",
       "      <td>Non-Small Cell Lung Cancer</td>\n",
       "      <td>Lung Adenocarcinoma</td>\n",
       "      <td>ERBB2</td>\n",
       "      <td>NO</td>\n",
       "      <td>0.2625</td>\n",
       "      <td>IMPACT410</td>\n",
       "      <td>...</td>\n",
       "      <td>YES</td>\n",
       "      <td>Primary</td>\n",
       "      <td>Female</td>\n",
       "      <td>Never</td>\n",
       "      <td>IV</td>\n",
       "      <td>YES</td>\n",
       "      <td>4.893598</td>\n",
       "      <td>NO</td>\n",
       "      <td>30.0</td>\n",
       "      <td>AWD</td>\n",
       "    </tr>\n",
       "    <tr>\n",
       "      <th>911</th>\n",
       "      <td>lung_msk_2017</td>\n",
       "      <td>P-0010041</td>\n",
       "      <td>P-0010041-T01-IM5</td>\n",
       "      <td>46</td>\n",
       "      <td>Non-Small Cell Lung Cancer</td>\n",
       "      <td>Lung Adenocarcinoma</td>\n",
       "      <td>ALK</td>\n",
       "      <td>YES</td>\n",
       "      <td>0.2027</td>\n",
       "      <td>IMPACT410</td>\n",
       "      <td>...</td>\n",
       "      <td>YES</td>\n",
       "      <td>Metastasis</td>\n",
       "      <td>Male</td>\n",
       "      <td>Never</td>\n",
       "      <td>IV</td>\n",
       "      <td>YES</td>\n",
       "      <td>0.978720</td>\n",
       "      <td>NO</td>\n",
       "      <td>70.0</td>\n",
       "      <td>AWD</td>\n",
       "    </tr>\n",
       "    <tr>\n",
       "      <th>912</th>\n",
       "      <td>lung_msk_2017</td>\n",
       "      <td>P-0010257</td>\n",
       "      <td>P-0010257-T01-IM5</td>\n",
       "      <td>54</td>\n",
       "      <td>Non-Small Cell Lung Cancer</td>\n",
       "      <td>Lung Adenocarcinoma</td>\n",
       "      <td>BRAF</td>\n",
       "      <td>NO</td>\n",
       "      <td>0.1834</td>\n",
       "      <td>IMPACT410</td>\n",
       "      <td>...</td>\n",
       "      <td>YES</td>\n",
       "      <td>Metastasis</td>\n",
       "      <td>Female</td>\n",
       "      <td>Former heavy</td>\n",
       "      <td>IV</td>\n",
       "      <td>YES</td>\n",
       "      <td>9.787197</td>\n",
       "      <td>YES</td>\n",
       "      <td>30.0</td>\n",
       "      <td>DOD</td>\n",
       "    </tr>\n",
       "    <tr>\n",
       "      <th>913</th>\n",
       "      <td>lung_msk_2017</td>\n",
       "      <td>P-0010466</td>\n",
       "      <td>P-0010466-T01-IM5</td>\n",
       "      <td>60</td>\n",
       "      <td>Non-Small Cell Lung Cancer</td>\n",
       "      <td>Lung Adenocarcinoma</td>\n",
       "      <td>MET</td>\n",
       "      <td>NO</td>\n",
       "      <td>0.1345</td>\n",
       "      <td>IMPACT410</td>\n",
       "      <td>...</td>\n",
       "      <td>YES</td>\n",
       "      <td>Primary</td>\n",
       "      <td>Female</td>\n",
       "      <td>Former light</td>\n",
       "      <td>IV</td>\n",
       "      <td>NO</td>\n",
       "      <td>1.957439</td>\n",
       "      <td>NO</td>\n",
       "      <td>20.0</td>\n",
       "      <td>AWD</td>\n",
       "    </tr>\n",
       "  </tbody>\n",
       "</table>\n",
       "<p>342 rows × 31 columns</p>\n",
       "</div>"
      ],
      "text/plain": [
       "          Study ID Patient ID          Sample ID  Diagnosis Age  \\\n",
       "0    lung_msk_2017  P-0000036  P-0000036-T01-IM3             57   \n",
       "4    lung_msk_2017  P-0000149  P-0000149-T01-IM3             50   \n",
       "5    lung_msk_2017  P-0000149  P-0000149-T02-IM3             50   \n",
       "6    lung_msk_2017  P-0000163  P-0000163-T01-IM3             37   \n",
       "7    lung_msk_2017  P-0000163  P-0000163-T02-IM3             37   \n",
       "..             ...        ...                ...            ...   \n",
       "904  lung_msk_2017  P-0009861  P-0009861-T01-IM5             86   \n",
       "908  lung_msk_2017  P-0009928  P-0009928-T01-IM5             70   \n",
       "911  lung_msk_2017  P-0010041  P-0010041-T01-IM5             46   \n",
       "912  lung_msk_2017  P-0010257  P-0010257-T01-IM5             54   \n",
       "913  lung_msk_2017  P-0010466  P-0010466-T01-IM5             60   \n",
       "\n",
       "                    Cancer Type Cancer Type Detailed Driver Mutations  \\\n",
       "0    Non-Small Cell Lung Cancer  Lung Adenocarcinoma             ROS1   \n",
       "4    Non-Small Cell Lung Cancer  Lung Adenocarcinoma            ERBB2   \n",
       "5    Non-Small Cell Lung Cancer  Lung Adenocarcinoma            ERBB2   \n",
       "6    Non-Small Cell Lung Cancer  Lung Adenocarcinoma     No mutations   \n",
       "7    Non-Small Cell Lung Cancer  Lung Adenocarcinoma            ERBB2   \n",
       "..                          ...                  ...              ...   \n",
       "904  Non-Small Cell Lung Cancer  Lung Adenocarcinoma             EGFR   \n",
       "908  Non-Small Cell Lung Cancer  Lung Adenocarcinoma            ERBB2   \n",
       "911  Non-Small Cell Lung Cancer  Lung Adenocarcinoma              ALK   \n",
       "912  Non-Small Cell Lung Cancer  Lung Adenocarcinoma             BRAF   \n",
       "913  Non-Small Cell Lung Cancer  Lung Adenocarcinoma              MET   \n",
       "\n",
       "    Durable Clinical Benefit  Fraction Genome Altered Gene Panel  ...  \\\n",
       "0                        YES                   0.0185  IMPACT341  ...   \n",
       "4                        YES                   0.2691  IMPACT341  ...   \n",
       "5                        YES                   0.4502  IMPACT341  ...   \n",
       "6                         NO                   0.0000  IMPACT341  ...   \n",
       "7                         NO                   0.3584  IMPACT341  ...   \n",
       "..                       ...                      ...        ...  ...   \n",
       "904                      YES                   0.0560  IMPACT410  ...   \n",
       "908                       NO                   0.2625  IMPACT410  ...   \n",
       "911                      YES                   0.2027  IMPACT410  ...   \n",
       "912                       NO                   0.1834  IMPACT410  ...   \n",
       "913                       NO                   0.1345  IMPACT410  ...   \n",
       "\n",
       "    Sample pre any Lung Therapy Sample Type     Sex  Smoking History  \\\n",
       "0                           YES     Primary  Female            Never   \n",
       "4                            NO  Metastasis  Female     Former light   \n",
       "5                           YES  Metastasis  Female     Former light   \n",
       "6                            NO  Metastasis  Female     Former light   \n",
       "7                            NO  Metastasis  Female     Former light   \n",
       "..                          ...         ...     ...              ...   \n",
       "904                         YES  Metastasis  Female            Never   \n",
       "908                         YES     Primary  Female            Never   \n",
       "911                         YES  Metastasis    Male            Never   \n",
       "912                         YES  Metastasis  Female     Former heavy   \n",
       "913                         YES     Primary  Female     Former light   \n",
       "\n",
       "    Stage At Diagnosis Target Therapy TMB (nonsynonymous) Chemotherapy  \\\n",
       "0                   IV            YES            7.764087          YES   \n",
       "4                   IV            YES            9.982398          YES   \n",
       "5                   IV            YES            4.436621          YES   \n",
       "6                   IV            YES            0.000000          YES   \n",
       "7                   IV            YES            3.327466          YES   \n",
       "..                 ...            ...                 ...          ...   \n",
       "904                 IV            YES            1.957439           NO   \n",
       "908                 IV            YES            4.893598           NO   \n",
       "911                 IV            YES            0.978720           NO   \n",
       "912                 IV            YES            9.787197          YES   \n",
       "913                 IV             NO            1.957439           NO   \n",
       "\n",
       "    Tumor Purity  Patient's Vital Status  \n",
       "0           30.0                     AWD  \n",
       "4           20.0                     DOD  \n",
       "5           50.0                     DOD  \n",
       "6            5.0                     DOD  \n",
       "7           80.0                     DOD  \n",
       "..           ...                     ...  \n",
       "904         20.0                     AWD  \n",
       "908         30.0                     AWD  \n",
       "911         70.0                     AWD  \n",
       "912         30.0                     DOD  \n",
       "913         20.0                     AWD  \n",
       "\n",
       "[342 rows x 31 columns]"
      ]
     },
     "execution_count": 17,
     "metadata": {},
     "output_type": "execute_result"
    }
   ],
   "source": [
    "clean_data"
   ]
  },
  {
   "cell_type": "code",
   "execution_count": 18,
   "metadata": {},
   "outputs": [],
   "source": [
    "clean_data.to_csv(\"Group12_Clean Dataset\", index = False)"
   ]
  },
  {
   "cell_type": "code",
   "execution_count": null,
   "metadata": {},
   "outputs": [],
   "source": [
    "################# DATA VISUALIZATION #######################\n",
    "clean_data.columns"
   ]
  },
  {
   "cell_type": "code",
   "execution_count": null,
   "metadata": {},
   "outputs": [],
   "source": [
    "sns.set_style(\"whitegrid\")\n",
    "sns.countplot(x=\"Immunotherapy\", data = clean_data)"
   ]
  },
  {
   "cell_type": "code",
   "execution_count": null,
   "metadata": {},
   "outputs": [],
   "source": [
    "sns.countplot(x=\"Chemotherapy\", data= clean_data)"
   ]
  },
  {
   "cell_type": "code",
   "execution_count": null,
   "metadata": {},
   "outputs": [],
   "source": [
    "immuno = len(clean_data[clean_data[\"Immunotherapy\"]==\"YES\"])\n",
    "print(\"The total number of patients that went with Immunotherapy\", immuno)\n",
    "chemo = len(clean_data[clean_data[\"Chemotherapy\"]==\"YES\"])\n",
    "print(\"The total number of patients that went with Chemotherapy\", chemo)"
   ]
  },
  {
   "cell_type": "code",
   "execution_count": null,
   "metadata": {},
   "outputs": [],
   "source": [
    "sns.countplot(x=\"Chemotherapy\", hue=\"Immunotherapy\", data=clean_data, palette=\"inferno\")"
   ]
  },
  {
   "cell_type": "code",
   "execution_count": null,
   "metadata": {},
   "outputs": [],
   "source": [
    "sns.swarmplot(x=\"Chemotherapy\",y=\"Mutation Count\", data=clean_data,palette=\"magma\")"
   ]
  },
  {
   "cell_type": "code",
   "execution_count": null,
   "metadata": {},
   "outputs": [],
   "source": [
    "sns.swarmplot(x=\"Immunotherapy\",y=\"Mutation Count\", data=clean_data,palette=\"magma\")"
   ]
  },
  {
   "cell_type": "code",
   "execution_count": null,
   "metadata": {},
   "outputs": [],
   "source": [
    "clean_data.columns"
   ]
  },
  {
   "cell_type": "code",
   "execution_count": null,
   "metadata": {},
   "outputs": [],
   "source": [
    "clean_data.head()"
   ]
  },
  {
   "cell_type": "code",
   "execution_count": null,
   "metadata": {},
   "outputs": [],
   "source": [
    "sns.countplot(x=\"Smoking History\", data=clean_data, palette=\"hls\")"
   ]
  },
  {
   "cell_type": "code",
   "execution_count": null,
   "metadata": {},
   "outputs": [],
   "source": [
    "sns.scatterplot(x=\"Smoking History\", y=\"Tumor Purity\", data=clean_data, palette=\"cubehelix\")"
   ]
  },
  {
   "cell_type": "code",
   "execution_count": null,
   "metadata": {},
   "outputs": [],
   "source": [
    "sns.scatterplot(x=\"Smoking History\", y=\"Mutation Count\", data=clean_data, palette=\"cubehelix\")"
   ]
  },
  {
   "cell_type": "code",
   "execution_count": null,
   "metadata": {},
   "outputs": [],
   "source": [
    "sns.boxplot(x=\"Smoking History\", y=\"Mutation Count\", data=clean_data, palette=\"cubehelix\")"
   ]
  },
  {
   "cell_type": "code",
   "execution_count": null,
   "metadata": {},
   "outputs": [],
   "source": [
    "sns.boxplot(x=\"Smoking History\", y=\"Tumor Purity\", data=clean_data, palette=\"cubehelix\")"
   ]
  },
  {
   "cell_type": "code",
   "execution_count": null,
   "metadata": {},
   "outputs": [],
   "source": [
    "clean_data.head()"
   ]
  },
  {
   "cell_type": "code",
   "execution_count": null,
   "metadata": {},
   "outputs": [],
   "source": [
    "sns.countplot(x=\"Sample Type\", data=clean_data)"
   ]
  },
  {
   "cell_type": "code",
   "execution_count": null,
   "metadata": {},
   "outputs": [],
   "source": [
    "sns.countplot(x=\"Cancer Type Detailed\", data=clean_data)"
   ]
  },
  {
   "cell_type": "code",
   "execution_count": null,
   "metadata": {},
   "outputs": [],
   "source": [
    "clean_data.columns"
   ]
  },
  {
   "cell_type": "code",
   "execution_count": null,
   "metadata": {},
   "outputs": [],
   "source": [
    "len(clean_data.columns)"
   ]
  },
  {
   "cell_type": "code",
   "execution_count": null,
   "metadata": {},
   "outputs": [],
   "source": [
    "sns.countplot(x=\"Patient's Vital Status\", data=clean_data, palette=\"hls\")"
   ]
  },
  {
   "cell_type": "code",
   "execution_count": null,
   "metadata": {
    "scrolled": true
   },
   "outputs": [],
   "source": [
    "sns.countplot(x=\"Patient's Vital Status\", hue=\"Immunotherapy\", data=clean_data, palette=\"hls\")"
   ]
  },
  {
   "cell_type": "code",
   "execution_count": null,
   "metadata": {},
   "outputs": [],
   "source": [
    "sns.scatterplot(x=\"Patient's Vital Status\",y=\"Diagnosis Age\", hue=\"Chemotherapy\" ,data= clean_data)"
   ]
  },
  {
   "cell_type": "code",
   "execution_count": null,
   "metadata": {},
   "outputs": [],
   "source": [
    "sns.scatterplot(x=\"Patient's Vital Status\",y=\"Diagnosis Age\", hue=\"Immunotherapy\" ,data= clean_data, palette=\"magma\")"
   ]
  },
  {
   "cell_type": "code",
   "execution_count": null,
   "metadata": {},
   "outputs": [],
   "source": [
    "sns.scatterplot(x=\"Patient's Vital Status\",y=\"Mutation Count\",hue=\"Immunotherapy\" ,data= clean_data, palette=\"magma\")"
   ]
  },
  {
   "cell_type": "code",
   "execution_count": null,
   "metadata": {},
   "outputs": [],
   "source": [
    "sns.scatterplot(x=\"Patient's Vital Status\",y=\"Mutation Count\",hue=\"Chemotherapy\" ,data= clean_data, palette=\"hls\")"
   ]
  },
  {
   "cell_type": "code",
   "execution_count": null,
   "metadata": {},
   "outputs": [],
   "source": [
    "sns.countplot(x=\"Patient's Vital Status\", hue=\"Immunotherapy\", data=clean_data, palette=\"OrRd\")"
   ]
  },
  {
   "cell_type": "code",
   "execution_count": null,
   "metadata": {},
   "outputs": [],
   "source": [
    "sns.countplot(x=\"Patient's Vital Status\", hue=\"Chemotherapy\", data=clean_data, palette=\"magma\")"
   ]
  },
  {
   "cell_type": "code",
   "execution_count": null,
   "metadata": {},
   "outputs": [],
   "source": [
    "sns.scatterplot(x=\"Chemotherapy\",y=\"Mutation Count\", data= clean_data, palette=\"hls\")"
   ]
  },
  {
   "cell_type": "code",
   "execution_count": null,
   "metadata": {},
   "outputs": [],
   "source": [
    "sns.scatterplot(x=\"Immunotherapy\",y=\"Mutation Count\", data= clean_data, palette=\"hls\")"
   ]
  },
  {
   "cell_type": "code",
   "execution_count": null,
   "metadata": {},
   "outputs": [],
   "source": [
    "#define data\n",
    "data =[len(clean_data[clean_data[\"Immunotherapy\"]==\"YES\"]), len(clean_data[clean_data[\"Immunotherapy\"]==\"NO\"])]\n",
    "labels=[\"YES\",\"NO\"]\n",
    "sns.set_style(\"whitegrid\")\n",
    "\n",
    "# #define Seaborn color palette to use\n",
    "colors = sns.color_palette('pastel')[0:5]\n",
    "# #create pie chart\n",
    "plt.title(\"Immunotherapy\")\n",
    "plt.pie(data, labels = labels, colors = colors, autopct='%.0f%%')\n",
    "plt.show()"
   ]
  },
  {
   "cell_type": "code",
   "execution_count": null,
   "metadata": {},
   "outputs": [],
   "source": [
    "#define data\n",
    "data =[len(clean_data[clean_data[\"Chemotherapy\"]==\"YES\"]), len(clean_data[clean_data[\"Chemotherapy\"]==\"NO\"])]\n",
    "labels=[\"YES\",\"NO\"]\n",
    "sns.set_style(\"whitegrid\")\n",
    "\n",
    "# #define Seaborn color palette to use\n",
    "colors = sns.color_palette('pastel')[0:5]\n",
    "# #create pie chart\n",
    "plt.title(\"Chemotherapy\")\n",
    "plt.pie(data, labels = labels, colors = colors, autopct='%.0f%%')\n",
    "plt.show()"
   ]
  },
  {
   "cell_type": "code",
   "execution_count": null,
   "metadata": {},
   "outputs": [],
   "source": [
    "sns.scatterplot(x=\"Patient's Vital Status\", y=\"Diagnosis Age\", data= clean_data)"
   ]
  },
  {
   "cell_type": "code",
   "execution_count": null,
   "metadata": {},
   "outputs": [],
   "source": [
    "# age vs Immunotherapy and Chemotherapy\n",
    "\n",
    "immuno=clean_data[\"Immunotherapy\"]==\"YES\"\n",
    "chemo=clean_data[\"Chemotherapy\"]==\"YES\"\n",
    "age= clean_data[\"Diagnosis Age\"]\n",
    "\n",
    "sns.boxplot(x= immuno, y= age)\n"
   ]
  },
  {
   "cell_type": "code",
   "execution_count": null,
   "metadata": {},
   "outputs": [],
   "source": [
    "sns.boxplot(x= chemo, y= age)"
   ]
  },
  {
   "cell_type": "code",
   "execution_count": null,
   "metadata": {
    "scrolled": true
   },
   "outputs": [],
   "source": [
    "sns.swarmplot(x=\"Sex\", y=\"Chemotherapy\", data=clean_data)"
   ]
  },
  {
   "cell_type": "code",
   "execution_count": null,
   "metadata": {},
   "outputs": [],
   "source": [
    "sns.swarmplot(x=\"Sex\", y=\"Immunotherapy\", data=clean_data)"
   ]
  },
  {
   "cell_type": "code",
   "execution_count": null,
   "metadata": {},
   "outputs": [],
   "source": [
    "clean_data.columns"
   ]
  },
  {
   "cell_type": "code",
   "execution_count": null,
   "metadata": {},
   "outputs": [],
   "source": [
    "clean_data[\"Chemotherapy\"]"
   ]
  },
  {
   "cell_type": "code",
   "execution_count": null,
   "metadata": {},
   "outputs": [],
   "source": [
    "# clean_data[\"Chemotherapy\"].replace([\"NO\",\"YES\"],[0,1],inplace=True)\n",
    "# clean_data[\"Chemotherapy\"]\n",
    "sns.barplot(x=\"Durable Clinical Benefit\", y=\"Chemotherapy\", data=clean_data)\n"
   ]
  },
  {
   "cell_type": "code",
   "execution_count": null,
   "metadata": {},
   "outputs": [],
   "source": [
    "# clean_data[\"Immunotherapy\"].replace([\"NO\",\"YES\"],[0,1],inplace=True)\n",
    "clean_data[\"Immunotherapy\"]"
   ]
  },
  {
   "cell_type": "code",
   "execution_count": null,
   "metadata": {},
   "outputs": [],
   "source": [
    "# encoding\n",
    "clean_data[\"Smoking History\"].replace([\"Never\",\"Former light\",\"Former heavy\",\"Current heavy\"],[0,1,2,3],inplace=True)\n"
   ]
  },
  {
   "cell_type": "code",
   "execution_count": null,
   "metadata": {},
   "outputs": [],
   "source": [
    "clean_data[\"Smoking History\"]"
   ]
  },
  {
   "cell_type": "code",
   "execution_count": null,
   "metadata": {},
   "outputs": [],
   "source": [
    "sns.boxplot(x=\"Patient's Vital Status\",y=\"Smoking History\",data=clean_data)\n",
    "# \"Never=0\",\"Former light=1\",\"Former heavy=2\",\"Current heavy=3\""
   ]
  },
  {
   "cell_type": "code",
   "execution_count": null,
   "metadata": {},
   "outputs": [],
   "source": [
    "sns.boxplot(x=\"Patient's Vital Status\", y=\"Chemotherapy\", data=clean_data)"
   ]
  },
  {
   "cell_type": "code",
   "execution_count": null,
   "metadata": {},
   "outputs": [],
   "source": [
    "sns.boxplot(x=\"Patient's Vital Status\", y=\"Tumor Purity\", data=clean_data)"
   ]
  },
  {
   "cell_type": "code",
   "execution_count": null,
   "metadata": {},
   "outputs": [],
   "source": []
  },
  {
   "cell_type": "code",
   "execution_count": null,
   "metadata": {},
   "outputs": [],
   "source": [
    "sns.boxplot(x=\"Chemotherapy\", y=\"Tumor Purity\", data= clean_data, palette=\"hls\")"
   ]
  },
  {
   "cell_type": "code",
   "execution_count": null,
   "metadata": {},
   "outputs": [],
   "source": [
    "sns.boxplot(x=\"Immunotherapy\", y=\"Tumor Purity\", data=clean_data, palette=\"hls\")"
   ]
  },
  {
   "cell_type": "code",
   "execution_count": null,
   "metadata": {},
   "outputs": [],
   "source": [
    "sns.scatterplot(x=\"Chemotherapy\", y=\"Tumor Purity\", data= clean_data)"
   ]
  },
  {
   "cell_type": "code",
   "execution_count": null,
   "metadata": {},
   "outputs": [],
   "source": [
    "sns.scatterplot(x=\"Immunotherapy\", y=\"Tumor Purity\", data= clean_data)"
   ]
  },
  {
   "cell_type": "code",
   "execution_count": null,
   "metadata": {},
   "outputs": [],
   "source": [
    "sns.boxplot(x=\"Chemotherapy\", y=\"Mutation Count\", data= clean_data)"
   ]
  },
  {
   "cell_type": "code",
   "execution_count": null,
   "metadata": {},
   "outputs": [],
   "source": [
    "sns.boxplot(x=\"Immunotherapy\", y=\"Mutation Count\", data= clean_data)"
   ]
  },
  {
   "cell_type": "code",
   "execution_count": null,
   "metadata": {},
   "outputs": [],
   "source": [
    "sns.boxplot(x=\"Immunotherapy\", y=\"Smoking History\", data= clean_data, palette=\"hls\")"
   ]
  },
  {
   "cell_type": "code",
   "execution_count": null,
   "metadata": {},
   "outputs": [],
   "source": [
    "sns.boxplot(x=\"Chemotherapy\", y=\"Smoking History\", data= clean_data, palette=\"hls\")"
   ]
  },
  {
   "cell_type": "code",
   "execution_count": null,
   "metadata": {},
   "outputs": [],
   "source": [
    "clean_data.columns\n",
    "sns.swarmplot(x=\"Chemotherapy\",y=\"Tumor Purity\",hue=\"Patient's Vital Status\",data=clean_data,palette=\"hls\")"
   ]
  },
  {
   "cell_type": "code",
   "execution_count": null,
   "metadata": {},
   "outputs": [],
   "source": [
    "sns.swarmplot(x=\"Immunotherapy\",y=\"Tumor Purity\",hue=\"Patient's Vital Status\",data=clean_data,palette=\"hls\")"
   ]
  },
  {
   "cell_type": "code",
   "execution_count": null,
   "metadata": {},
   "outputs": [],
   "source": [
    "sns.swarmplot(x=\"Immunotherapy\",y=\"Mutation Count\",hue=\"Patient's Vital Status\",data=clean_data,palette=\"hls\")"
   ]
  },
  {
   "cell_type": "code",
   "execution_count": null,
   "metadata": {},
   "outputs": [],
   "source": [
    "sns.swarmplot(x=\"Sex\",y =\"Durable Clinical Benefit\", data=clean_data)"
   ]
  },
  {
   "cell_type": "code",
   "execution_count": null,
   "metadata": {},
   "outputs": [],
   "source": [
    "sns.boxplot(x=\"Sex\",y =\"Durable Clinical Benefit\", data=clean_data)"
   ]
  },
  {
   "cell_type": "code",
   "execution_count": null,
   "metadata": {},
   "outputs": [],
   "source": [
    "sns.swarmplot(x=\"Number Treatment Lines Prior To Receiving Impact Results\",y =\"Durable Clinical Benefit\", data=clean_data)"
   ]
  },
  {
   "cell_type": "code",
   "execution_count": null,
   "metadata": {},
   "outputs": [],
   "source": [
    "sns.boxplot(x=\"Durable Clinical Benefit\",y =\"Number Treatment Lines Prior To Receiving Impact Results\", data=clean_data)"
   ]
  },
  {
   "cell_type": "code",
   "execution_count": null,
   "metadata": {},
   "outputs": [],
   "source": [
    "sns.swarmplot(x=\"Durable Clinical Benefit\",y =\"Mutation Count\", data=clean_data)"
   ]
  },
  {
   "cell_type": "code",
   "execution_count": null,
   "metadata": {},
   "outputs": [],
   "source": [
    "sns.barplot(x=\"Durable Clinical Benefit\",y =\"Mutation Count\", data=clean_data)"
   ]
  },
  {
   "cell_type": "code",
   "execution_count": null,
   "metadata": {},
   "outputs": [],
   "source": [
    "sns.scatterplot(x=\"Durable Clinical Benefit\",y =\"Tumor Purity\", data=clean_data)"
   ]
  },
  {
   "cell_type": "code",
   "execution_count": null,
   "metadata": {},
   "outputs": [],
   "source": [
    "sns.boxplot(x=\"Durable Clinical Benefit\",y =\"Tumor Purity\", data=clean_data)"
   ]
  },
  {
   "cell_type": "code",
   "execution_count": null,
   "metadata": {
    "scrolled": true
   },
   "outputs": [],
   "source": [
    "sns.boxplot(x=\"Immunotherapy\",y =\"Durable Clinical Benefit\", data=clean_data)"
   ]
  },
  {
   "cell_type": "code",
   "execution_count": null,
   "metadata": {},
   "outputs": [],
   "source": [
    "sns.boxplot(x=\"Chemotherapy\",y =\"Durable Clinical Benefit\", data=clean_data)"
   ]
  },
  {
   "cell_type": "code",
   "execution_count": null,
   "metadata": {},
   "outputs": [],
   "source": [
    "sns.boxplot(x=\"Durable Clinical Benefit\",y =\"Diagnosis Age\", data=clean_data)"
   ]
  },
  {
   "cell_type": "code",
   "execution_count": null,
   "metadata": {},
   "outputs": [],
   "source": [
    "sns.boxplot(x=\"Durable Clinical Benefit\",y =\"\", data=clean_data)"
   ]
  },
  {
   "cell_type": "code",
   "execution_count": null,
   "metadata": {},
   "outputs": [],
   "source": [
    "from sklearn.linear_model import LinearRegression\n",
    "from sklearn.neighbors import KNeighborsClassifier\n",
    "from sklearn.tree import DecisionTreeClassifier\n",
    "from sklearn.ensemble import RandomForestClassifier\n",
    "from sklearn.naive_bayes import GaussianNB\n",
    "from sklearn import tree\n",
    "from sklearn.model_selection import train_test_split\n",
    "from sklearn.metrics import mean_squared_error \n",
    "from sklearn.metrics import accuracy_score\n",
    "from sklearn import metrics \n",
    "import scipy"
   ]
  },
  {
   "cell_type": "code",
   "execution_count": null,
   "metadata": {},
   "outputs": [],
   "source": [
    "from sklearn.preprocessing import StandardScaler\n",
    "scaler= StandardScaler()"
   ]
  },
  {
   "cell_type": "code",
   "execution_count": null,
   "metadata": {},
   "outputs": [],
   "source": [
    "# clean_data[\"Sex\"].replace([\"Male\",\"Female\"],[1,0],inplace=True)\n",
    "# clean_data[\"Sex\"]"
   ]
  },
  {
   "cell_type": "code",
   "execution_count": null,
   "metadata": {},
   "outputs": [],
   "source": [
    "# sns.countplot(x=\"Target Therapy\", data=clean_data)\n",
    "# clean_data[\"Target Therapy\"].replace([\"NO\",\"YES\"],[0,1],inplace=True)\n",
    "clean_data[\"Gene Panel\"].replace([\"IMPACT341\",\"IMPACT410\"],[0,1],inplace=True)\n",
    "clean_data[\"Gene Panel\"]\n",
    "# clean_data[\"Target Therapy\"]"
   ]
  },
  {
   "cell_type": "code",
   "execution_count": null,
   "metadata": {},
   "outputs": [],
   "source": [
    "# clean_data[\"Patient's Vital Status\"].replace([\"AWD\",\"DOD\",\"DUK\",\"AWD-M\",\"NED-M\"],[0,1,2,3,4], inplace=True)\n",
    "clean_data[\"Patient's Vital Status\"]"
   ]
  },
  {
   "cell_type": "code",
   "execution_count": null,
   "metadata": {},
   "outputs": [],
   "source": [
    "# clean_data[\"Durable Clinical Benefit\"].replace([\"await\"],[2],inplace=True)\n",
    "clean_data[\"Durable Clinical Benefit\"].replace([\"N_stoppedSE\"],[4],inplace=True)"
   ]
  },
  {
   "cell_type": "code",
   "execution_count": null,
   "metadata": {},
   "outputs": [],
   "source": [
    "clean_data.columns"
   ]
  },
  {
   "cell_type": "code",
   "execution_count": null,
   "metadata": {},
   "outputs": [],
   "source": [
    "# x = clean_data.drop(columns=['Study ID', 'Patient ID', 'Sample ID','Cancer Type','Cancer Type Detailed', 'Driver Mutations', 'Durable Clinical Benefit',\n",
    "#        \"Oncotree Code\",\"Gene Panel\",\n",
    "#        'Institute Source',\"Immunotherapy\", \"Chemotherapy\",\n",
    "#        'Overall Patient Histology',\n",
    "#        'Primary Tumor Site', 'Recurrent/metastatic disease', 'Sample Class',\n",
    "#        'Number of Samples Per Patient', 'Sample coverage',\n",
    "#        'Sample pre any Lung Therapy', 'Sample Type','Stage At Diagnosis', \"Patient's Vital Status\"])\n",
    "# x.columns\n",
    "# # x = scaler.fit(x)\n",
    "# y= clean_data.drop(columns=['Study ID', 'Patient ID', 'Sample ID', 'Diagnosis Age', 'Cancer Type',\n",
    "#        'Cancer Type Detailed', 'Driver Mutations', 'Durable Clinical Benefit',\n",
    "#        'Fraction Genome Altered', 'Gene Panel','Institute Source',\n",
    "#        'Number Treatment Lines Prior To Receiving Impact Results',\n",
    "#        'Mutation Count', 'Oncotree Code', 'Overall Patient Histology',\n",
    "#        'Primary Tumor Site', 'Recurrent/metastatic disease', 'Sample Class',\n",
    "#        'Number of Samples Per Patient', 'Sample coverage',\n",
    "#        'Sample pre any Lung Therapy', 'Sample Type', 'Sex', 'Smoking History',\n",
    "#        'Stage At Diagnosis', 'Target Therapy', 'TMB (nonsynonymous)', 'Tumor Purity', \"Patient's Vital Status\"])\n",
    "# y.columns\n",
    "# x"
   ]
  },
  {
   "cell_type": "code",
   "execution_count": null,
   "metadata": {},
   "outputs": [],
   "source": [
    "x= clean_data.drop(columns=['Study ID', 'Patient ID', 'Sample ID','Cancer Type','Cancer Type Detailed', 'Driver Mutations',\n",
    "       'Institute Source',\"Immunotherapy\", \"Chemotherapy\",\n",
    "       'Overall Patient Histology',\"Oncotree Code\",\n",
    "       'Primary Tumor Site', 'Recurrent/metastatic disease', 'Sample Class',\n",
    "       'Number of Samples Per Patient', 'Sample coverage',\n",
    "       'Sample pre any Lung Therapy', 'Sample Type','Stage At Diagnosis' ])\n",
    "y= clean_data[\"Durable Clinical Benefit\"]\n",
    "x.columns\n",
    "\n",
    "# y.columns"
   ]
  },
  {
   "cell_type": "code",
   "execution_count": null,
   "metadata": {},
   "outputs": [],
   "source": [
    "X_train, X_test, y_train, y_test = train_test_split(x, y, test_size = 0.25, random_state =42)\n",
    "X_train.dtypes"
   ]
  },
  {
   "cell_type": "code",
   "execution_count": null,
   "metadata": {
    "scrolled": true
   },
   "outputs": [],
   "source": [
    "X_train.head()"
   ]
  },
  {
   "cell_type": "code",
   "execution_count": null,
   "metadata": {},
   "outputs": [],
   "source": [
    "y_train.head()"
   ]
  },
  {
   "cell_type": "code",
   "execution_count": null,
   "metadata": {},
   "outputs": [],
   "source": [
    "clf = RandomForestClassifier(n_estimators = 100) \n",
    "clf.fit(X_train, y_train)\n",
    "predictions2 = clf.predict(X_test)\n",
    "# accuracy_score(y_test, predictions2)\n",
    "print(\"ACCURACY OF THE MODEL(in %): \", metrics.accuracy_score(y_test, predictions2)*100)\n",
    "# dta=accuracy_score(y_test, predictions2)"
   ]
  },
  {
   "cell_type": "code",
   "execution_count": null,
   "metadata": {},
   "outputs": [],
   "source": [
    "knn = KNeighborsClassifier(n_neighbors=3) \n",
    "knn.fit(X_train, y_train)\n",
    "predictions2 = knn.predict(X_test)\n",
    "# accuracy_score(y_test, predictions2)\n",
    "print(\"ACCURACY OF THE MODEL(in %): \", metrics.accuracy_score(y_test, predictions2)*100)\n",
    "# dta=accuracy_score(y_test, predictions2)"
   ]
  },
  {
   "cell_type": "code",
   "execution_count": null,
   "metadata": {},
   "outputs": [],
   "source": [
    "dtc = DecisionTreeClassifier()\n",
    "dtc.fit(X_train, y_train)\n",
    "predictions2 = dtc.predict(X_test)\n",
    "# accuracy_score(y_test, predictions2)\n",
    "print(\"ACCURACY OF THE MODEL(in %): \", metrics.accuracy_score(y_test, predictions2)*100)\n",
    "# dta=accuracy_score(y_test, predictions2)"
   ]
  },
  {
   "cell_type": "code",
   "execution_count": null,
   "metadata": {
    "scrolled": true
   },
   "outputs": [],
   "source": [
    "sns.countplot(x=\"Durable Clinical Benefit\", data=clean_data)"
   ]
  },
  {
   "cell_type": "code",
   "execution_count": null,
   "metadata": {},
   "outputs": [],
   "source": [
    "######### Predictive model for Suitable Therapy ###############\n",
    "y= clean_data.drop(columns=['Study ID', 'Patient ID', 'Sample ID', 'Diagnosis Age', 'Cancer Type',\n",
    "       'Cancer Type Detailed', 'Driver Mutations', 'Durable Clinical Benefit',\n",
    "       'Fraction Genome Altered', 'Gene Panel','Institute Source',\n",
    "       'Number Treatment Lines Prior To Receiving Impact Results',\n",
    "       'Mutation Count', 'Oncotree Code', 'Overall Patient Histology',\n",
    "       'Primary Tumor Site', 'Recurrent/metastatic disease', 'Sample Class',\n",
    "       'Number of Samples Per Patient', 'Sample coverage',\n",
    "       'Sample pre any Lung Therapy', 'Sample Type', 'Sex', 'Smoking History',\n",
    "       'Stage At Diagnosis', 'Target Therapy', 'TMB (nonsynonymous)', 'Tumor Purity', \"Patient's Vital Status\"])\n",
    "y.columns"
   ]
  },
  {
   "cell_type": "code",
   "execution_count": null,
   "metadata": {},
   "outputs": [],
   "source": [
    "X_train, X_test, y_train, y_test = train_test_split(x, y, test_size = 0.25, random_state =42)\n",
    "X_train.dtypes"
   ]
  },
  {
   "cell_type": "code",
   "execution_count": null,
   "metadata": {},
   "outputs": [],
   "source": [
    "clf = RandomForestClassifier(n_estimators = 100) \n",
    "clf.fit(X_train, y_train)\n",
    "predictions2 = clf.predict(X_test)\n",
    "# accuracy_score(y_test, predictions2)\n",
    "print(\"ACCURACY OF THE MODEL(in %): \"\n",
    "      , metrics.accuracy_score(y_test, predictions2)*100)\n",
    "# dta=accuracy_score(y_test, predictions2)"
   ]
  },
  {
   "cell_type": "code",
   "execution_count": null,
   "metadata": {},
   "outputs": [],
   "source": [
    "############ Predictive Model For the Patient's Vital Status ############\n",
    "x= clean_data.drop(columns=['Study ID', 'Patient ID', 'Sample ID','Cancer Type','Cancer Type Detailed', 'Driver Mutations',\n",
    "       'Institute Source',\"Immunotherapy\", \"Chemotherapy\",\n",
    "       'Overall Patient Histology',\"Oncotree Code\",\n",
    "       'Primary Tumor Site', 'Recurrent/metastatic disease', 'Sample Class',\n",
    "       'Number of Samples Per Patient', 'Sample coverage',\n",
    "       'Sample pre any Lung Therapy', 'Sample Type','Stage At Diagnosis',\"Patient's Vital Status\" ])\n",
    "y = clean_data[\"Patient's Vital Status\"]"
   ]
  },
  {
   "cell_type": "code",
   "execution_count": null,
   "metadata": {},
   "outputs": [],
   "source": [
    "X_train, X_test, y_train, y_test = train_test_split(x, y, test_size = 0.25, random_state =42)\n",
    "X_train.dtypes"
   ]
  },
  {
   "cell_type": "code",
   "execution_count": null,
   "metadata": {},
   "outputs": [],
   "source": [
    "clf = RandomForestClassifier(n_estimators = 100) \n",
    "clf.fit(X_train, y_train)\n",
    "predictions2 = clf.predict(X_test)\n",
    "# accuracy_score(y_test, predictions2)\n",
    "print(\"ACCURACY OF THE MODEL(in %): \", metrics.accuracy_score(y_test, predictions2)*100)\n",
    "# dta=accuracy_score(y_test, predictions2)"
   ]
  }
 ],
 "metadata": {
  "kernelspec": {
   "display_name": "Python 3",
   "language": "python",
   "name": "python3"
  },
  "language_info": {
   "codemirror_mode": {
    "name": "ipython",
    "version": 3
   },
   "file_extension": ".py",
   "mimetype": "text/x-python",
   "name": "python",
   "nbconvert_exporter": "python",
   "pygments_lexer": "ipython3",
   "version": "3.8.3"
  }
 },
 "nbformat": 4,
 "nbformat_minor": 4
}
